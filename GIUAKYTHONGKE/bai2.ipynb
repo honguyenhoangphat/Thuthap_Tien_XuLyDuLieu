{
 "cells": [
  {
   "cell_type": "markdown",
   "id": "8825052d-ea43-4e95-9f7b-d3b0a10a534c",
   "metadata": {},
   "source": [
    "-HỒ NGUYỄN HOÀNG PHÁT \n",
    "\n",
    "-PHẠM QUỐC AN\n",
    "\n",
    "-NGUYỄN THỊ THU NGÂN\n",
    "\n",
    "-TRẦN LÊ VÂN\n"
   ]
  },
  {
   "cell_type": "code",
   "execution_count": 4,
   "id": "16d95935-0f71-41be-a40a-2e5f5fff9fc4",
   "metadata": {},
   "outputs": [],
   "source": [
    "import pandas as pd\n",
    "import numpy as np\n",
    "from scipy import stats"
   ]
  },
  {
   "cell_type": "code",
   "execution_count": 5,
   "id": "39fe985b-77c3-47ad-a0b0-e54f5dc2826b",
   "metadata": {},
   "outputs": [
    {
     "data": {
      "text/html": [
       "<div>\n",
       "<style scoped>\n",
       "    .dataframe tbody tr th:only-of-type {\n",
       "        vertical-align: middle;\n",
       "    }\n",
       "\n",
       "    .dataframe tbody tr th {\n",
       "        vertical-align: top;\n",
       "    }\n",
       "\n",
       "    .dataframe thead th {\n",
       "        text-align: right;\n",
       "    }\n",
       "</style>\n",
       "<table border=\"1\" class=\"dataframe\">\n",
       "  <thead>\n",
       "    <tr style=\"text-align: right;\">\n",
       "      <th></th>\n",
       "      <th>Unnamed: 0</th>\n",
       "      <th>Dist.1</th>\n",
       "      <th>Dist.3</th>\n",
       "    </tr>\n",
       "  </thead>\n",
       "  <tbody>\n",
       "    <tr>\n",
       "      <th>0</th>\n",
       "      <td>1</td>\n",
       "      <td>469.287974</td>\n",
       "      <td>636.998800</td>\n",
       "    </tr>\n",
       "    <tr>\n",
       "      <th>1</th>\n",
       "      <td>2</td>\n",
       "      <td>624.279263</td>\n",
       "      <td>469.899012</td>\n",
       "    </tr>\n",
       "    <tr>\n",
       "      <th>2</th>\n",
       "      <td>3</td>\n",
       "      <td>502.423935</td>\n",
       "      <td>501.089387</td>\n",
       "    </tr>\n",
       "    <tr>\n",
       "      <th>3</th>\n",
       "      <td>4</td>\n",
       "      <td>535.707470</td>\n",
       "      <td>600.583043</td>\n",
       "    </tr>\n",
       "    <tr>\n",
       "      <th>4</th>\n",
       "      <td>5</td>\n",
       "      <td>531.136676</td>\n",
       "      <td>634.337700</td>\n",
       "    </tr>\n",
       "    <tr>\n",
       "      <th>...</th>\n",
       "      <td>...</td>\n",
       "      <td>...</td>\n",
       "      <td>...</td>\n",
       "    </tr>\n",
       "    <tr>\n",
       "      <th>195</th>\n",
       "      <td>196</td>\n",
       "      <td>415.911929</td>\n",
       "      <td>579.307607</td>\n",
       "    </tr>\n",
       "    <tr>\n",
       "      <th>196</th>\n",
       "      <td>197</td>\n",
       "      <td>611.406840</td>\n",
       "      <td>592.417549</td>\n",
       "    </tr>\n",
       "    <tr>\n",
       "      <th>197</th>\n",
       "      <td>198</td>\n",
       "      <td>520.994007</td>\n",
       "      <td>547.489690</td>\n",
       "    </tr>\n",
       "    <tr>\n",
       "      <th>198</th>\n",
       "      <td>199</td>\n",
       "      <td>570.627738</td>\n",
       "      <td>575.621403</td>\n",
       "    </tr>\n",
       "    <tr>\n",
       "      <th>199</th>\n",
       "      <td>200</td>\n",
       "      <td>436.502902</td>\n",
       "      <td>459.709049</td>\n",
       "    </tr>\n",
       "  </tbody>\n",
       "</table>\n",
       "<p>200 rows × 3 columns</p>\n",
       "</div>"
      ],
      "text/plain": [
       "     Unnamed: 0      Dist.1      Dist.3\n",
       "0             1  469.287974  636.998800\n",
       "1             2  624.279263  469.899012\n",
       "2             3  502.423935  501.089387\n",
       "3             4  535.707470  600.583043\n",
       "4             5  531.136676  634.337700\n",
       "..          ...         ...         ...\n",
       "195         196  415.911929  579.307607\n",
       "196         197  611.406840  592.417549\n",
       "197         198  520.994007  547.489690\n",
       "198         199  570.627738  575.621403\n",
       "199         200  436.502902  459.709049\n",
       "\n",
       "[200 rows x 3 columns]"
      ]
     },
     "execution_count": 5,
     "metadata": {},
     "output_type": "execute_result"
    }
   ],
   "source": [
    "df = pd.read_csv('Profit.csv')\n",
    "df"
   ]
  },
  {
   "cell_type": "markdown",
   "id": "0ad67af1-995b-4052-b27f-ae6334d2397f",
   "metadata": {},
   "source": [
    "df.isnull().sum()"
   ]
  },
  {
   "cell_type": "code",
   "execution_count": null,
   "id": "10cff7e2-28cf-4a15-8074-ec82e19cdc91",
   "metadata": {},
   "outputs": [],
   "source": []
  },
  {
   "cell_type": "code",
   "execution_count": 6,
   "id": "bae13e85-0160-4683-b8d1-b3e424130c5d",
   "metadata": {},
   "outputs": [
    {
     "name": "stdout",
     "output_type": "stream",
     "text": [
      "Khoang tin cay 95% la:  (8.117962095529133, 40.74784023755568)\n"
     ]
    }
   ],
   "source": [
    "dist1 = df['Dist.1']\n",
    "dist3 = df['Dist.3']\n",
    "confidence_interval = stats.t.interval(\n",
    "    0.95, \n",
    "    len(dist1)-1, \n",
    "    loc=np.mean(dist1 - dist3), \n",
    "    scale=stats.sem(dist1 - dist3)\n",
    ")\n",
    "print(\"Khoang tin cay 95% la: \",confidence_interval)"
   ]
  },
  {
   "cell_type": "markdown",
   "id": "7cc05430-2f67-4762-80a9-496df6d34856",
   "metadata": {},
   "source": [
    "### B. Tren 600 trieu"
   ]
  },
  {
   "cell_type": "code",
   "execution_count": 7,
   "id": "4626f15b-1c47-4862-8388-f48f7f32efd2",
   "metadata": {},
   "outputs": [
    {
     "name": "stdout",
     "output_type": "stream",
     "text": [
      "b) Tỷ lệ ngày doanh số cao (quận 1): 24.00%\n",
      "   Tỷ lệ ngày doanh số cao (quận 3): 19.50%\n",
      "   Giá trị p từ kiểm định: 0.13825664296112147\n"
     ]
    },
    {
     "data": {
      "text/plain": [
       "1.0896803728236673"
      ]
     },
     "execution_count": 7,
     "metadata": {},
     "output_type": "execute_result"
    }
   ],
   "source": [
    "# b) Kiểm tra tỷ lệ ngày có doanh số trên 600 triệu đồng\n",
    "high = 600\n",
    "\n",
    "# Đếm số ngày có doanh số trên 600 triệu đồng\n",
    "stat1 = np.sum(dist1 > high)\n",
    "stat3 = np.sum(dist3 > high)\n",
    "\n",
    "# Tính tỷ lệ\n",
    "p_value1 = stat1 / len(dist1)\n",
    "p_value3 = stat3 / len(dist3)\n",
    "\n",
    "# Kiểm định t-test\n",
    "stat, p_value = stats.ttest_ind(dist1 > high, dist3 > high, alternative='greater')\n",
    "\n",
    "print(f\"b) Tỷ lệ ngày doanh số cao (quận 1): {p_value1 * 100:.2f}%\")\n",
    "print(f\"   Tỷ lệ ngày doanh số cao (quận 3): {p_value3 * 100:.2f}%\")\n",
    "print(\"   Giá trị p từ kiểm định:\", p_value)\n",
    "stat"
   ]
  },
  {
   "cell_type": "code",
   "execution_count": 25,
   "id": "11476fb3-03fb-4e3c-89da-9473737c3715",
   "metadata": {},
   "outputs": [
    {
     "name": "stdout",
     "output_type": "stream",
     "text": [
      "Giá trị p từ kiểm định prop.test.leq: 86.232%\n",
      "   Kết luận: Chưa đủ cơ sở để bác bỏ giả thuyết H0 (p_x = p_y).\n"
     ]
    }
   ],
   "source": [
    "#c) Viết hàm prop.test.leq(x, y, alpha)\n",
    "def prop_test_leq(x, y, alpha=0.05):\n",
    "    n_x = len(x)\n",
    "    n_y = len(y)\n",
    "    p_x = np.sum(x) / n_x\n",
    "    p_y = np.sum(y) / n_y\n",
    "    \n",
    "    p_pool = (np.sum(x) + np.sum(y)) / (n_x + n_y)\n",
    "    se = np.sqrt(p_pool * (1 - p_pool) * (1/n_x + 1/n_y))\n",
    "    z_score = (p_x - p_y) / se\n",
    "    \n",
    "    p_value = stats.norm.cdf(z_score)\n",
    "    \n",
    "    return p_value, p_value < alpha\n",
    "\n",
    "# Kiểm định giả thuyết\n",
    "x = dist1 > high\n",
    "y = dist3 > high\n",
    "p_value, reject = prop_test_leq(x, y)\n",
    "if p_value < 0.05:\n",
    "    print(f\"Gia tri p từ kiểm định prp.test.leq: {p_value *100:.3f}\")\n",
    "    print(\"Kết luận: Đủ cơ sở để bác bỏ giả thuyết H0 (p_x = p_y).\")\n",
    "else:\n",
    "    print(f\"Giá trị p từ kiểm định prop.test.leq: {p_value * 100:.3f}%\")\n",
    "    print(\"   Kết luận: Chưa đủ cơ sở để bác bỏ giả thuyết H0 (p_x = p_y).\")"
   ]
  }
 ],
 "metadata": {
  "kernelspec": {
   "display_name": "Python 3 (ipykernel)",
   "language": "python",
   "name": "python3"
  },
  "language_info": {
   "codemirror_mode": {
    "name": "ipython",
    "version": 3
   },
   "file_extension": ".py",
   "mimetype": "text/x-python",
   "name": "python",
   "nbconvert_exporter": "python",
   "pygments_lexer": "ipython3",
   "version": "3.12.7"
  }
 },
 "nbformat": 4,
 "nbformat_minor": 5
}
