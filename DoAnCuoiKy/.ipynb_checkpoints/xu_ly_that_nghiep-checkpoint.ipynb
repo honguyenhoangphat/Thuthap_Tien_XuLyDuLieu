{
 "cells": [
  {
   "cell_type": "code",
   "execution_count": 69,
   "metadata": {},
   "outputs": [],
   "source": [
    "import numpy as np\n",
    "import pandas as pd\n",
    "import matplotlib.pyplot as plt\n",
    "from scipy.stats import shapiro, bartlett\n",
    "from  statsmodels.stats.outliers_influence import variance_inflation_factor\n",
    "from  statsmodels.formula.api import ols\n",
    "from sklearn.feature_selection import f_regression\n",
    "import seaborn as sns"
   ]
  },
  {
   "cell_type": "code",
   "execution_count": 70,
   "metadata": {},
   "outputs": [
    {
     "data": {
      "text/html": [
       "<div>\n",
       "<style scoped>\n",
       "    .dataframe tbody tr th:only-of-type {\n",
       "        vertical-align: middle;\n",
       "    }\n",
       "\n",
       "    .dataframe tbody tr th {\n",
       "        vertical-align: top;\n",
       "    }\n",
       "\n",
       "    .dataframe thead th {\n",
       "        text-align: right;\n",
       "    }\n",
       "</style>\n",
       "<table border=\"1\" class=\"dataframe\">\n",
       "  <thead>\n",
       "    <tr style=\"text-align: right;\">\n",
       "      <th></th>\n",
       "      <th>Tỉnh/Thành phố</th>\n",
       "      <th>2018</th>\n",
       "      <th>2019</th>\n",
       "      <th>2020</th>\n",
       "      <th>2021</th>\n",
       "      <th>2022</th>\n",
       "      <th>Sơ bộ 2023</th>\n",
       "    </tr>\n",
       "  </thead>\n",
       "  <tbody>\n",
       "    <tr>\n",
       "      <th>0</th>\n",
       "      <td>CẢ NƯỚC</td>\n",
       "      <td>2,19</td>\n",
       "      <td>2,17</td>\n",
       "      <td>2,48</td>\n",
       "      <td>3,20</td>\n",
       "      <td>2,34</td>\n",
       "      <td>2,28</td>\n",
       "    </tr>\n",
       "    <tr>\n",
       "      <th>1</th>\n",
       "      <td>Đồng bằng sông Hồng</td>\n",
       "      <td>1,97</td>\n",
       "      <td>1,82</td>\n",
       "      <td>2,05</td>\n",
       "      <td>2,18</td>\n",
       "      <td>1,93</td>\n",
       "      <td>1,86</td>\n",
       "    </tr>\n",
       "    <tr>\n",
       "      <th>2</th>\n",
       "      <td>Hà Nội</td>\n",
       "      <td>1,80</td>\n",
       "      <td>1,78</td>\n",
       "      <td>2,11</td>\n",
       "      <td>2,68</td>\n",
       "      <td>2,22</td>\n",
       "      <td>2,01</td>\n",
       "    </tr>\n",
       "    <tr>\n",
       "      <th>3</th>\n",
       "      <td>Vĩnh Phúc</td>\n",
       "      <td>1,76</td>\n",
       "      <td>1,79</td>\n",
       "      <td>2,09</td>\n",
       "      <td>1,48</td>\n",
       "      <td>1,46</td>\n",
       "      <td>1,72</td>\n",
       "    </tr>\n",
       "    <tr>\n",
       "      <th>4</th>\n",
       "      <td>Bắc Ninh</td>\n",
       "      <td>2,10</td>\n",
       "      <td>2,48</td>\n",
       "      <td>2,19</td>\n",
       "      <td>2,70</td>\n",
       "      <td>2,55</td>\n",
       "      <td>2,68</td>\n",
       "    </tr>\n",
       "    <tr>\n",
       "      <th>...</th>\n",
       "      <td>...</td>\n",
       "      <td>...</td>\n",
       "      <td>...</td>\n",
       "      <td>...</td>\n",
       "      <td>...</td>\n",
       "      <td>...</td>\n",
       "      <td>...</td>\n",
       "    </tr>\n",
       "    <tr>\n",
       "      <th>65</th>\n",
       "      <td>Cần Thơ</td>\n",
       "      <td>3,58</td>\n",
       "      <td>3,18</td>\n",
       "      <td>3,60</td>\n",
       "      <td>3,96</td>\n",
       "      <td>3,72</td>\n",
       "      <td>3,78</td>\n",
       "    </tr>\n",
       "    <tr>\n",
       "      <th>66</th>\n",
       "      <td>Hậu Giang</td>\n",
       "      <td>1,86</td>\n",
       "      <td>3,11</td>\n",
       "      <td>3,05</td>\n",
       "      <td>5,43</td>\n",
       "      <td>1,69</td>\n",
       "      <td>2,01</td>\n",
       "    </tr>\n",
       "    <tr>\n",
       "      <th>67</th>\n",
       "      <td>Sóc Trăng</td>\n",
       "      <td>3,40</td>\n",
       "      <td>2,91</td>\n",
       "      <td>2,10</td>\n",
       "      <td>3,13</td>\n",
       "      <td>3,37</td>\n",
       "      <td>3,39</td>\n",
       "    </tr>\n",
       "    <tr>\n",
       "      <th>68</th>\n",
       "      <td>Bạc Liêu</td>\n",
       "      <td>3,66</td>\n",
       "      <td>3,74</td>\n",
       "      <td>3,48</td>\n",
       "      <td>2,35</td>\n",
       "      <td>2,12</td>\n",
       "      <td>2,05</td>\n",
       "    </tr>\n",
       "    <tr>\n",
       "      <th>69</th>\n",
       "      <td>Cà Mau</td>\n",
       "      <td>2,55</td>\n",
       "      <td>2,10</td>\n",
       "      <td>2,27</td>\n",
       "      <td>2,52</td>\n",
       "      <td>1,47</td>\n",
       "      <td>1,91</td>\n",
       "    </tr>\n",
       "  </tbody>\n",
       "</table>\n",
       "<p>70 rows × 7 columns</p>\n",
       "</div>"
      ],
      "text/plain": [
       "         Tỉnh/Thành phố  2018  2019  2020  2021  2022 Sơ bộ 2023\n",
       "0               CẢ NƯỚC  2,19  2,17  2,48  3,20  2,34       2,28\n",
       "1   Đồng bằng sông Hồng  1,97  1,82  2,05  2,18  1,93       1,86\n",
       "2                Hà Nội  1,80  1,78  2,11  2,68  2,22       2,01\n",
       "3             Vĩnh Phúc  1,76  1,79  2,09  1,48  1,46       1,72\n",
       "4              Bắc Ninh  2,10  2,48  2,19  2,70  2,55       2,68\n",
       "..                  ...   ...   ...   ...   ...   ...        ...\n",
       "65              Cần Thơ  3,58  3,18  3,60  3,96  3,72       3,78\n",
       "66            Hậu Giang  1,86  3,11  3,05  5,43  1,69       2,01\n",
       "67            Sóc Trăng  3,40  2,91  2,10  3,13  3,37       3,39\n",
       "68             Bạc Liêu  3,66  3,74  3,48  2,35  2,12       2,05\n",
       "69               Cà Mau  2,55  2,10  2,27  2,52  1,47       1,91\n",
       "\n",
       "[70 rows x 7 columns]"
      ]
     },
     "execution_count": 70,
     "metadata": {},
     "output_type": "execute_result"
    }
   ],
   "source": [
    "df = pd.read_csv(\"that_nghiep.csv\")\n",
    "df"
   ]
  },
  {
   "cell_type": "code",
   "execution_count": 71,
   "metadata": {},
   "outputs": [
    {
     "data": {
      "text/plain": [
       "Index(['Tỉnh/Thành phố', '2018', '2019', '2020', '2021', '2022', 'Sơ bộ 2023'], dtype='object')"
      ]
     },
     "execution_count": 71,
     "metadata": {},
     "output_type": "execute_result"
    }
   ],
   "source": [
    "df.columns"
   ]
  },
  {
   "cell_type": "code",
   "execution_count": 72,
   "metadata": {},
   "outputs": [],
   "source": [
    "df.drop(columns=['2018'], inplace=True)\n",
    "\n"
   ]
  },
  {
   "cell_type": "code",
   "execution_count": 73,
   "metadata": {},
   "outputs": [],
   "source": [
    "df.rename(columns={'Sơ bộ 2023' : '2023'}, inplace=True)"
   ]
  },
  {
   "cell_type": "code",
   "execution_count": 74,
   "metadata": {},
   "outputs": [
    {
     "data": {
      "text/plain": [
       "Index(['Tỉnh/Thành phố', '2019', '2020', '2021', '2022', '2023'], dtype='object')"
      ]
     },
     "execution_count": 74,
     "metadata": {},
     "output_type": "execute_result"
    }
   ],
   "source": [
    "df.columns"
   ]
  },
  {
   "cell_type": "code",
   "execution_count": 75,
   "metadata": {},
   "outputs": [
    {
     "name": "stdout",
     "output_type": "stream",
     "text": [
      "<class 'pandas.core.frame.DataFrame'>\n",
      "RangeIndex: 70 entries, 0 to 69\n",
      "Data columns (total 6 columns):\n",
      " #   Column          Non-Null Count  Dtype \n",
      "---  ------          --------------  ----- \n",
      " 0   Tỉnh/Thành phố  70 non-null     object\n",
      " 1   2019            70 non-null     object\n",
      " 2   2020            70 non-null     object\n",
      " 3   2021            70 non-null     object\n",
      " 4   2022            70 non-null     object\n",
      " 5   2023            70 non-null     object\n",
      "dtypes: object(6)\n",
      "memory usage: 3.4+ KB\n"
     ]
    }
   ],
   "source": [
    "df.info()"
   ]
  },
  {
   "cell_type": "code",
   "execution_count": 76,
   "metadata": {},
   "outputs": [
    {
     "data": {
      "text/plain": [
       "Tỉnh/Thành phố     object\n",
       "2019              float64\n",
       "2020              float64\n",
       "2021              float64\n",
       "2022              float64\n",
       "2023              float64\n",
       "dtype: object"
      ]
     },
     "execution_count": 76,
     "metadata": {},
     "output_type": "execute_result"
    }
   ],
   "source": [
    "cols_year = [ '2019', '2020', '2021', '2022', '2023']\n",
    "df[cols_year] = df[cols_year].apply(lambda x: x.str.replace(',', '.')).astype(float)\n",
    "df.dtypes"
   ]
  },
  {
   "cell_type": "code",
   "execution_count": 77,
   "metadata": {},
   "outputs": [
    {
     "data": {
      "text/html": [
       "<div>\n",
       "<style scoped>\n",
       "    .dataframe tbody tr th:only-of-type {\n",
       "        vertical-align: middle;\n",
       "    }\n",
       "\n",
       "    .dataframe tbody tr th {\n",
       "        vertical-align: top;\n",
       "    }\n",
       "\n",
       "    .dataframe thead th {\n",
       "        text-align: right;\n",
       "    }\n",
       "</style>\n",
       "<table border=\"1\" class=\"dataframe\">\n",
       "  <thead>\n",
       "    <tr style=\"text-align: right;\">\n",
       "      <th></th>\n",
       "      <th>Tỉnh/Thành phố</th>\n",
       "      <th>2019</th>\n",
       "      <th>2020</th>\n",
       "      <th>2021</th>\n",
       "      <th>2022</th>\n",
       "      <th>2023</th>\n",
       "    </tr>\n",
       "  </thead>\n",
       "  <tbody>\n",
       "    <tr>\n",
       "      <th>0</th>\n",
       "      <td>CẢ NƯỚC</td>\n",
       "      <td>2.17</td>\n",
       "      <td>2.48</td>\n",
       "      <td>3.20</td>\n",
       "      <td>2.34</td>\n",
       "      <td>2.28</td>\n",
       "    </tr>\n",
       "    <tr>\n",
       "      <th>1</th>\n",
       "      <td>Đồng bằng sông Hồng</td>\n",
       "      <td>1.82</td>\n",
       "      <td>2.05</td>\n",
       "      <td>2.18</td>\n",
       "      <td>1.93</td>\n",
       "      <td>1.86</td>\n",
       "    </tr>\n",
       "    <tr>\n",
       "      <th>2</th>\n",
       "      <td>Hà Nội</td>\n",
       "      <td>1.78</td>\n",
       "      <td>2.11</td>\n",
       "      <td>2.68</td>\n",
       "      <td>2.22</td>\n",
       "      <td>2.01</td>\n",
       "    </tr>\n",
       "    <tr>\n",
       "      <th>3</th>\n",
       "      <td>Vĩnh Phúc</td>\n",
       "      <td>1.79</td>\n",
       "      <td>2.09</td>\n",
       "      <td>1.48</td>\n",
       "      <td>1.46</td>\n",
       "      <td>1.72</td>\n",
       "    </tr>\n",
       "    <tr>\n",
       "      <th>4</th>\n",
       "      <td>Bắc Ninh</td>\n",
       "      <td>2.48</td>\n",
       "      <td>2.19</td>\n",
       "      <td>2.70</td>\n",
       "      <td>2.55</td>\n",
       "      <td>2.68</td>\n",
       "    </tr>\n",
       "    <tr>\n",
       "      <th>...</th>\n",
       "      <td>...</td>\n",
       "      <td>...</td>\n",
       "      <td>...</td>\n",
       "      <td>...</td>\n",
       "      <td>...</td>\n",
       "      <td>...</td>\n",
       "    </tr>\n",
       "    <tr>\n",
       "      <th>65</th>\n",
       "      <td>Cần Thơ</td>\n",
       "      <td>3.18</td>\n",
       "      <td>3.60</td>\n",
       "      <td>3.96</td>\n",
       "      <td>3.72</td>\n",
       "      <td>3.78</td>\n",
       "    </tr>\n",
       "    <tr>\n",
       "      <th>66</th>\n",
       "      <td>Hậu Giang</td>\n",
       "      <td>3.11</td>\n",
       "      <td>3.05</td>\n",
       "      <td>5.43</td>\n",
       "      <td>1.69</td>\n",
       "      <td>2.01</td>\n",
       "    </tr>\n",
       "    <tr>\n",
       "      <th>67</th>\n",
       "      <td>Sóc Trăng</td>\n",
       "      <td>2.91</td>\n",
       "      <td>2.10</td>\n",
       "      <td>3.13</td>\n",
       "      <td>3.37</td>\n",
       "      <td>3.39</td>\n",
       "    </tr>\n",
       "    <tr>\n",
       "      <th>68</th>\n",
       "      <td>Bạc Liêu</td>\n",
       "      <td>3.74</td>\n",
       "      <td>3.48</td>\n",
       "      <td>2.35</td>\n",
       "      <td>2.12</td>\n",
       "      <td>2.05</td>\n",
       "    </tr>\n",
       "    <tr>\n",
       "      <th>69</th>\n",
       "      <td>Cà Mau</td>\n",
       "      <td>2.10</td>\n",
       "      <td>2.27</td>\n",
       "      <td>2.52</td>\n",
       "      <td>1.47</td>\n",
       "      <td>1.91</td>\n",
       "    </tr>\n",
       "  </tbody>\n",
       "</table>\n",
       "<p>70 rows × 6 columns</p>\n",
       "</div>"
      ],
      "text/plain": [
       "         Tỉnh/Thành phố  2019  2020  2021  2022  2023\n",
       "0               CẢ NƯỚC  2.17  2.48  3.20  2.34  2.28\n",
       "1   Đồng bằng sông Hồng  1.82  2.05  2.18  1.93  1.86\n",
       "2                Hà Nội  1.78  2.11  2.68  2.22  2.01\n",
       "3             Vĩnh Phúc  1.79  2.09  1.48  1.46  1.72\n",
       "4              Bắc Ninh  2.48  2.19  2.70  2.55  2.68\n",
       "..                  ...   ...   ...   ...   ...   ...\n",
       "65              Cần Thơ  3.18  3.60  3.96  3.72  3.78\n",
       "66            Hậu Giang  3.11  3.05  5.43  1.69  2.01\n",
       "67            Sóc Trăng  2.91  2.10  3.13  3.37  3.39\n",
       "68             Bạc Liêu  3.74  3.48  2.35  2.12  2.05\n",
       "69               Cà Mau  2.10  2.27  2.52  1.47  1.91\n",
       "\n",
       "[70 rows x 6 columns]"
      ]
     },
     "execution_count": 77,
     "metadata": {},
     "output_type": "execute_result"
    }
   ],
   "source": [
    "df"
   ]
  },
  {
   "cell_type": "code",
   "execution_count": 78,
   "metadata": {},
   "outputs": [
    {
     "name": "stdout",
     "output_type": "stream",
     "text": [
      "Số lượng giá trị NaN trong từng biến là: Tỉnh/Thành phố    0\n",
      "2019              0\n",
      "2020              0\n",
      "2021              0\n",
      "2022              0\n",
      "2023              0\n",
      "dtype: int64\n"
     ]
    }
   ],
   "source": [
    "#đếm số lượng giá trị NaN trong từng biến\n",
    "nan_count = df.isna().sum()\n",
    "print('Số lượng giá trị NaN trong từng biến là:', nan_count)"
   ]
  },
  {
   "cell_type": "code",
   "execution_count": 79,
   "metadata": {},
   "outputs": [
    {
     "data": {
      "text/plain": [
       "0"
      ]
     },
     "execution_count": 79,
     "metadata": {},
     "output_type": "execute_result"
    }
   ],
   "source": [
    "df.duplicated().sum()"
   ]
  },
  {
   "cell_type": "code",
   "execution_count": 80,
   "metadata": {},
   "outputs": [
    {
     "name": "stdout",
     "output_type": "stream",
     "text": [
      "Tỉnh/Thành phố: Không áp dụng do dữ liệu không phải dạng số\n",
      "2019: 12    0.52\n",
      "24    0.47\n",
      "34    4.21\n",
      "57    5.34\n",
      "Name: 2019, dtype: float64\n",
      "2020: 25    0.42\n",
      "27    0.44\n",
      "35    9.41\n",
      "40    4.70\n",
      "Name: 2020, dtype: float64\n",
      "2021: 24    0.51\n",
      "35    8.06\n",
      "44    0.51\n",
      "54    9.18\n",
      "Name: 2021, dtype: float64\n",
      "2022: 21    6.34\n",
      "24    0.39\n",
      "31    5.43\n",
      "45    0.52\n",
      "Name: 2022, dtype: float64\n",
      "2023: 24    0.31\n",
      "31    5.51\n",
      "45    0.50\n",
      "62    4.95\n",
      "Name: 2023, dtype: float64\n"
     ]
    }
   ],
   "source": [
    "# Hàm kiểm tra outliers\n",
    "def detect_outliers(df):\n",
    "    lower_bound = df.quantile(0.025)  # Lấy giá trị giới hạn dưới\n",
    "    upper_bound = df.quantile(0.975)  # Lấy giá trị giới hạn trên\n",
    "    return df[(df < lower_bound) | (df > upper_bound)]\n",
    "\n",
    "# Kiểm tra outliers\n",
    "# for col in df.columns:\n",
    "#     outliers = detect_outliers(df[col])\n",
    "#     print(f'{col}: {outliers}')\n",
    "\n",
    "for col in df.columns:\n",
    "    if df[col].dtype in ['float64', 'int64']:  # Chỉ áp dụng cho cột dạng số\n",
    "        outliers = detect_outliers(df[col])\n",
    "        print(f'{col}: {outliers}')\n",
    "    else:\n",
    "        print(f'{col}: Không áp dụng do dữ liệu không phải dạng số')"
   ]
  },
  {
   "cell_type": "code",
   "execution_count": 81,
   "metadata": {},
   "outputs": [
    {
     "data": {
      "text/plain": [
       "<Axes: >"
      ]
     },
     "execution_count": 81,
     "metadata": {},
     "output_type": "execute_result"
    },
    {
     "data": {
      "image/png": "[encoded data removed]",
      "text/plain": [
       "<Figure size 1800x600 with 1 Axes>"
      ]
     },
     "metadata": {},
     "output_type": "display_data"
    }
   ],
   "source": [
    "# vẽ boxplot\n",
    "plt.figure(figsize=(18, 6))\n",
    "df.boxplot()"
   ]
  }
 ],
 "metadata": {
  "kernelspec": {
   "display_name": "Python 3",
   "language": "python",
   "name": "python3"
  },
  "language_info": {
   "codemirror_mode": {
    "name": "ipython",
    "version": 3
   },
   "file_extension": ".py",
   "mimetype": "text/x-python",
   "name": "python",
   "nbconvert_exporter": "python",
   "pygments_lexer": "ipython3",
   "version": "3.11.0"
  }
 },
 "nbformat": 4,
 "nbformat_minor": 2
}
