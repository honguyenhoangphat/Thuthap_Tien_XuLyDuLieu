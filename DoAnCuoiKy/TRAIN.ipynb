{
 "cells": [
  {
   "cell_type": "code",
   "execution_count": 1,
   "id": "6120aee7-6275-4894-aeaf-bb3aa370cf46",
   "metadata": {},
   "outputs": [],
   "source": [
    "import pandas as pd\n",
    "data = pd.read_csv('foreign_tourist.csv')"
   ]
  },
  {
   "cell_type": "code",
   "execution_count": 2,
   "id": "188a289a-b7ca-4586-8098-35b599d75700",
   "metadata": {},
   "outputs": [
    {
     "name": "stdout",
     "output_type": "stream",
     "text": [
      "<class 'pandas.core.frame.DataFrame'>\n",
      "RangeIndex: 1895 entries, 0 to 1894\n",
      "Data columns (total 10 columns):\n",
      " #   Column                                             Non-Null Count  Dtype  \n",
      "---  ------                                             --------------  -----  \n",
      " 0   Năm                                                1895 non-null   int64  \n",
      " 1   Tháng                                              1895 non-null   object \n",
      " 2   Chỉ tiêu                                           1895 non-null   object \n",
      " 3   Ước tính mỗi tháng                                 1856 non-null   object \n",
      " 4   Tổng lượt khách cả năm                             1892 non-null   object \n",
      " 5   So với tháng trước (%)                             1852 non-null   object \n",
      " 6   So sánh tháng này ở năm trước(%)                   1424 non-null   object \n",
      " 7   So sánh tổng lượt khách với cùng kỳ năm trước (%)  1278 non-null   object \n",
      " 8   Unnamed: 8                                         0 non-null      float64\n",
      " 9   Unnamed: 9                                         0 non-null      float64\n",
      "dtypes: float64(2), int64(1), object(7)\n",
      "memory usage: 148.2+ KB\n"
     ]
    },
    {
     "data": {
      "text/plain": [
       "(None,\n",
       "                Năm  Unnamed: 8  Unnamed: 9\n",
       " count  1895.000000         0.0         0.0\n",
       " mean   2021.813720         NaN         NaN\n",
       " std       1.870581         NaN         NaN\n",
       " min    2019.000000         NaN         NaN\n",
       " 25%    2020.000000         NaN         NaN\n",
       " 50%    2022.000000         NaN         NaN\n",
       " 75%    2023.000000         NaN         NaN\n",
       " max    2024.000000         NaN         NaN,\n",
       "     Năm Tháng        Chỉ tiêu Ước tính mỗi tháng Tổng lượt khách cả năm  \\\n",
       " 0  2019    t1  1. Đường không          1.087.755              1.167.203   \n",
       " 1  2019    t1   2. Đường biển             10.931                 24.157   \n",
       " 2  2019    t1     3. Đường bộ            275.549                310.406   \n",
       " 3  2019    t1        Thái Lan             42.603                 45.105   \n",
       " 4  2019    t1        Đài Loan             64.365                 63.789   \n",
       " \n",
       "   So với tháng trước (%) So sánh tháng này ở năm trước(%)  \\\n",
       " 0                  107,3                            101,4   \n",
       " 1                  221,0                             69,5   \n",
       " 2                  112,7                            126,9   \n",
       " 3                  105,9                            139,7   \n",
       " 4                   99,1                            131,4   \n",
       " \n",
       "   So sánh tổng lượt khách với cùng kỳ năm trước (%)  Unnamed: 8  Unnamed: 9  \n",
       " 0                                               NaN         NaN         NaN  \n",
       " 1                                               NaN         NaN         NaN  \n",
       " 2                                               NaN         NaN         NaN  \n",
       " 3                                               NaN         NaN         NaN  \n",
       " 4                                               NaN         NaN         NaN  )"
      ]
     },
     "execution_count": 2,
     "metadata": {},
     "output_type": "execute_result"
    }
   ],
   "source": [
    "data_info = data.info()\n",
    "data_description = data.describe()\n",
    "data_head = data.head()\n",
    "\n",
    "data_info, data_description, data_head"
   ]
  },
  {
   "cell_type": "code",
   "execution_count": 3,
   "id": "55711a61-1cf0-4442-894e-6c0cc4f6ad38",
   "metadata": {},
   "outputs": [
    {
     "data": {
      "text/plain": [
       "Năm\n",
       "2019    456\n",
       "2020    122\n",
       "2021     12\n",
       "2022    443\n",
       "2023    453\n",
       "2024    409\n",
       "Name: count, dtype: int64"
      ]
     },
     "execution_count": 3,
     "metadata": {},
     "output_type": "execute_result"
    }
   ],
   "source": [
    "# Xóa các cột không cần thiết\n",
    "data_cleaned = data.drop(columns=['Unnamed: 8', 'Unnamed: 9'])\n",
    "\n",
    "data_full = data_cleaned.copy()\n",
    "\n",
    "data_full_count = data_full['Năm'].value_counts().sort_index()\n",
    "\n",
    "data_full_count"
   ]
  },
  {
   "cell_type": "code",
   "execution_count": 4,
   "id": "c8ab6e42-4a4e-4ebe-8218-329f58caa50d",
   "metadata": {},
   "outputs": [
    {
     "data": {
      "text/plain": [
       "Năm\n",
       "2019    456\n",
       "2020    113\n",
       "2022    443\n",
       "2023    453\n",
       "2024    409\n",
       "Name: count, dtype: int64"
      ]
     },
     "execution_count": 4,
     "metadata": {},
     "output_type": "execute_result"
    }
   ],
   "source": [
    "data_no_covid_filtered = data_cleaned[~(\n",
    "    ((data_cleaned['Năm'] == 2020) & (data_cleaned['Tháng'].isin(['t4', 't5', 't6', 't7', 't8', 't9', 't10', 't11', 't12']))) |\n",
    "    ((data_cleaned['Năm'] == 2021))\n",
    ")]\n",
    "\n",
    "# Kiểm tra số lượng dòng dữ liệu sau khi lọc\n",
    "filtered_count = data_no_covid_filtered['Năm'].value_counts().sort_index()\n",
    "\n",
    "filtered_count"
   ]
  },
  {
   "cell_type": "code",
   "execution_count": 5,
   "id": "e247c999-3b7b-4b6d-acb5-0ba8d149ee2c",
   "metadata": {},
   "outputs": [
    {
     "name": "stderr",
     "output_type": "stream",
     "text": [
<<<<<<< HEAD
      "C:\\Users\\Admin\\AppData\\Local\\Temp\\ipykernel_14120\\1705999005.py:5: SettingWithCopyWarning: \n",
=======
      "C:\\Users\\ADMIN\\AppData\\Local\\Temp\\ipykernel_20224\\1705999005.py:5: SettingWithCopyWarning: \n",
>>>>>>> 22d5528f25ad860368f6f909aa528518bd4d33c5
      "A value is trying to be set on a copy of a slice from a DataFrame.\n",
      "Try using .loc[row_indexer,col_indexer] = value instead\n",
      "\n",
      "See the caveats in the documentation: https://pandas.pydata.org/pandas-docs/stable/user_guide/indexing.html#returning-a-view-versus-a-copy\n",
      "  data_no_covid_filtered[col] = (data_no_covid_filtered[col]\n",
<<<<<<< HEAD
      "C:\\Users\\Admin\\AppData\\Local\\Temp\\ipykernel_14120\\1705999005.py:5: SettingWithCopyWarning: \n",
=======
      "C:\\Users\\ADMIN\\AppData\\Local\\Temp\\ipykernel_20224\\1705999005.py:5: SettingWithCopyWarning: \n",
>>>>>>> 22d5528f25ad860368f6f909aa528518bd4d33c5
      "A value is trying to be set on a copy of a slice from a DataFrame.\n",
      "Try using .loc[row_indexer,col_indexer] = value instead\n",
      "\n",
      "See the caveats in the documentation: https://pandas.pydata.org/pandas-docs/stable/user_guide/indexing.html#returning-a-view-versus-a-copy\n",
      "  data_no_covid_filtered[col] = (data_no_covid_filtered[col]\n",
<<<<<<< HEAD
      "C:\\Users\\Admin\\AppData\\Local\\Temp\\ipykernel_14120\\1705999005.py:5: SettingWithCopyWarning: \n",
=======
      "C:\\Users\\ADMIN\\AppData\\Local\\Temp\\ipykernel_20224\\1705999005.py:5: SettingWithCopyWarning: \n",
>>>>>>> 22d5528f25ad860368f6f909aa528518bd4d33c5
      "A value is trying to be set on a copy of a slice from a DataFrame.\n",
      "Try using .loc[row_indexer,col_indexer] = value instead\n",
      "\n",
      "See the caveats in the documentation: https://pandas.pydata.org/pandas-docs/stable/user_guide/indexing.html#returning-a-view-versus-a-copy\n",
      "  data_no_covid_filtered[col] = (data_no_covid_filtered[col]\n",
<<<<<<< HEAD
      "C:\\Users\\Admin\\AppData\\Local\\Temp\\ipykernel_14120\\1705999005.py:5: SettingWithCopyWarning: \n",
=======
      "C:\\Users\\ADMIN\\AppData\\Local\\Temp\\ipykernel_20224\\1705999005.py:5: SettingWithCopyWarning: \n",
>>>>>>> 22d5528f25ad860368f6f909aa528518bd4d33c5
      "A value is trying to be set on a copy of a slice from a DataFrame.\n",
      "Try using .loc[row_indexer,col_indexer] = value instead\n",
      "\n",
      "See the caveats in the documentation: https://pandas.pydata.org/pandas-docs/stable/user_guide/indexing.html#returning-a-view-versus-a-copy\n",
      "  data_no_covid_filtered[col] = (data_no_covid_filtered[col]\n",
<<<<<<< HEAD
      "C:\\Users\\Admin\\AppData\\Local\\Temp\\ipykernel_14120\\1705999005.py:5: SettingWithCopyWarning: \n",
=======
      "C:\\Users\\ADMIN\\AppData\\Local\\Temp\\ipykernel_20224\\1705999005.py:5: SettingWithCopyWarning: \n",
>>>>>>> 22d5528f25ad860368f6f909aa528518bd4d33c5
      "A value is trying to be set on a copy of a slice from a DataFrame.\n",
      "Try using .loc[row_indexer,col_indexer] = value instead\n",
      "\n",
      "See the caveats in the documentation: https://pandas.pydata.org/pandas-docs/stable/user_guide/indexing.html#returning-a-view-versus-a-copy\n",
      "  data_no_covid_filtered[col] = (data_no_covid_filtered[col]\n"
     ]
    },
    {
     "data": {
      "text/plain": [
       "Năm                                                    int64\n",
       "Tháng                                                 object\n",
       "Chỉ tiêu                                              object\n",
       "Ước tính mỗi tháng                                   float64\n",
       "Tổng lượt khách cả năm                               float64\n",
       "So với tháng trước (%)                               float64\n",
       "So sánh tháng này ở năm trước(%)                     float64\n",
       "So sánh tổng lượt khách với cùng kỳ năm trước (%)    float64\n",
       "dtype: object"
      ]
     },
     "execution_count": 5,
     "metadata": {},
     "output_type": "execute_result"
    }
   ],
   "source": [
    "columns_to_convert = ['Ước tính mỗi tháng', 'Tổng lượt khách cả năm', \n",
    "                      'So với tháng trước (%)', 'So sánh tháng này ở năm trước(%)', \n",
    "                      'So sánh tổng lượt khách với cùng kỳ năm trước (%)']\n",
    "for col in columns_to_convert:\n",
    "    data_no_covid_filtered[col] = (data_no_covid_filtered[col]\n",
    "                                   .str.replace('.', '', regex=False)  # Xóa dấu chấm (nghìn)\n",
    "                                   .str.replace(',', '.', regex=False)  # Thay dấu phẩy thành dấu chấm (thập phân)\n",
    "                                   .astype(float))\n",
    "\n",
    "# Kiểm tra lại kiểu dữ liệu sau khi chuyển đổi\n",
    "data_no_covid_filtered.dtypes"
   ]
  },
  {
   "cell_type": "code",
   "execution_count": 6,
   "id": "ca174062-e4d0-40aa-b4bd-9573635da42b",
   "metadata": {},
   "outputs": [
    {
     "data": {
      "text/plain": [
       "(Năm                                                    0\n",
       " Tháng                                                  0\n",
       " Chỉ tiêu                                               0\n",
       " Ước tính mỗi tháng                                    39\n",
       " Tổng lượt khách cả năm                                 3\n",
       " So với tháng trước (%)                                43\n",
       " So sánh tháng này ở năm trước(%)                     471\n",
       " So sánh tổng lượt khách với cùng kỳ năm trước (%)    617\n",
       " dtype: int64,\n",
       " Ước tính mỗi tháng                                   187\n",
       " Tổng lượt khách cả năm                               220\n",
       " So với tháng trước (%)                               120\n",
       " So sánh tháng này ở năm trước(%)                     217\n",
       " So sánh tổng lượt khách với cùng kỳ năm trước (%)    178\n",
       " dtype: int64)"
      ]
     },
     "execution_count": 6,
     "metadata": {},
     "output_type": "execute_result"
    }
   ],
   "source": [
    "import numpy as np\n",
    "\n",
    "# 1. Kiểm tra missing values\n",
    "missing_values = data_no_covid_filtered.isnull().sum()\n",
    "\n",
    "# 2. Xử lý outliers bằng IQR\n",
    "Q1 = data_no_covid_filtered[columns_to_convert].quantile(0.25)\n",
    "Q3 = data_no_covid_filtered[columns_to_convert].quantile(0.75)\n",
    "IQR = Q3 - Q1\n",
    "\n",
    "# Xác định outliers\n",
    "outliers = ((data_no_covid_filtered[columns_to_convert] < (Q1 - 1.5 * IQR)) |\n",
    "            (data_no_covid_filtered[columns_to_convert] > (Q3 + 1.5 * IQR))).sum()\n",
    "\n",
    "missing_values, outliers"
   ]
  },
  {
   "cell_type": "code",
   "execution_count": 7,
   "id": "a06b3b1b-4343-4614-8cbb-af514f47f194",
   "metadata": {},
   "outputs": [
    {
     "name": "stderr",
     "output_type": "stream",
     "text": [
<<<<<<< HEAD
      "C:\\Users\\Admin\\AppData\\Local\\Temp\\ipykernel_14120\\1936885467.py:5: FutureWarning: A value is trying to be set on a copy of a DataFrame or Series through chained assignment using an inplace method.\n",
=======
      "C:\\Users\\ADMIN\\AppData\\Local\\Temp\\ipykernel_20224\\1936885467.py:5: FutureWarning: A value is trying to be set on a copy of a DataFrame or Series through chained assignment using an inplace method.\n",
>>>>>>> 22d5528f25ad860368f6f909aa528518bd4d33c5
      "The behavior will change in pandas 3.0. This inplace method will never work because the intermediate object on which we are setting values always behaves as a copy.\n",
      "\n",
      "For example, when doing 'df[col].method(value, inplace=True)', try using 'df.method({col: value}, inplace=True)' or df[col] = df[col].method(value) instead, to perform the operation inplace on the original object.\n",
      "\n",
      "\n",
      "  data_no_covid_filtered[col].fillna(data_no_covid_filtered[col].median(), inplace=True)\n",
<<<<<<< HEAD
      "C:\\Users\\Admin\\AppData\\Local\\Temp\\ipykernel_14120\\1936885467.py:5: SettingWithCopyWarning: \n",
=======
      "C:\\Users\\ADMIN\\AppData\\Local\\Temp\\ipykernel_20224\\1936885467.py:5: SettingWithCopyWarning: \n",
      "A value is trying to be set on a copy of a slice from a DataFrame\n",
      "\n",
      "See the caveats in the documentation: https://pandas.pydata.org/pandas-docs/stable/user_guide/indexing.html#returning-a-view-versus-a-copy\n",
      "  data_no_covid_filtered[col].fillna(data_no_covid_filtered[col].median(), inplace=True)\n",
      "C:\\Users\\ADMIN\\AppData\\Local\\Temp\\ipykernel_20224\\1936885467.py:5: FutureWarning: A value is trying to be set on a copy of a DataFrame or Series through chained assignment using an inplace method.\n",
      "The behavior will change in pandas 3.0. This inplace method will never work because the intermediate object on which we are setting values always behaves as a copy.\n",
      "\n",
      "For example, when doing 'df[col].method(value, inplace=True)', try using 'df.method({col: value}, inplace=True)' or df[col] = df[col].method(value) instead, to perform the operation inplace on the original object.\n",
      "\n",
      "\n",
      "  data_no_covid_filtered[col].fillna(data_no_covid_filtered[col].median(), inplace=True)\n",
      "C:\\Users\\ADMIN\\AppData\\Local\\Temp\\ipykernel_20224\\1936885467.py:5: SettingWithCopyWarning: \n",
      "A value is trying to be set on a copy of a slice from a DataFrame\n",
      "\n",
      "See the caveats in the documentation: https://pandas.pydata.org/pandas-docs/stable/user_guide/indexing.html#returning-a-view-versus-a-copy\n",
      "  data_no_covid_filtered[col].fillna(data_no_covid_filtered[col].median(), inplace=True)\n",
      "C:\\Users\\ADMIN\\AppData\\Local\\Temp\\ipykernel_20224\\1936885467.py:5: FutureWarning: A value is trying to be set on a copy of a DataFrame or Series through chained assignment using an inplace method.\n",
      "The behavior will change in pandas 3.0. This inplace method will never work because the intermediate object on which we are setting values always behaves as a copy.\n",
      "\n",
      "For example, when doing 'df[col].method(value, inplace=True)', try using 'df.method({col: value}, inplace=True)' or df[col] = df[col].method(value) instead, to perform the operation inplace on the original object.\n",
      "\n",
      "\n",
      "  data_no_covid_filtered[col].fillna(data_no_covid_filtered[col].median(), inplace=True)\n",
      "C:\\Users\\ADMIN\\AppData\\Local\\Temp\\ipykernel_20224\\1936885467.py:5: SettingWithCopyWarning: \n",
      "A value is trying to be set on a copy of a slice from a DataFrame\n",
      "\n",
      "See the caveats in the documentation: https://pandas.pydata.org/pandas-docs/stable/user_guide/indexing.html#returning-a-view-versus-a-copy\n",
      "  data_no_covid_filtered[col].fillna(data_no_covid_filtered[col].median(), inplace=True)\n",
      "C:\\Users\\ADMIN\\AppData\\Local\\Temp\\ipykernel_20224\\1936885467.py:5: FutureWarning: A value is trying to be set on a copy of a DataFrame or Series through chained assignment using an inplace method.\n",
      "The behavior will change in pandas 3.0. This inplace method will never work because the intermediate object on which we are setting values always behaves as a copy.\n",
      "\n",
      "For example, when doing 'df[col].method(value, inplace=True)', try using 'df.method({col: value}, inplace=True)' or df[col] = df[col].method(value) instead, to perform the operation inplace on the original object.\n",
      "\n",
      "\n",
      "  data_no_covid_filtered[col].fillna(data_no_covid_filtered[col].median(), inplace=True)\n",
      "C:\\Users\\ADMIN\\AppData\\Local\\Temp\\ipykernel_20224\\1936885467.py:5: SettingWithCopyWarning: \n",
      "A value is trying to be set on a copy of a slice from a DataFrame\n",
      "\n",
      "See the caveats in the documentation: https://pandas.pydata.org/pandas-docs/stable/user_guide/indexing.html#returning-a-view-versus-a-copy\n",
      "  data_no_covid_filtered[col].fillna(data_no_covid_filtered[col].median(), inplace=True)\n",
      "C:\\Users\\ADMIN\\AppData\\Local\\Temp\\ipykernel_20224\\1936885467.py:5: FutureWarning: A value is trying to be set on a copy of a DataFrame or Series through chained assignment using an inplace method.\n",
      "The behavior will change in pandas 3.0. This inplace method will never work because the intermediate object on which we are setting values always behaves as a copy.\n",
      "\n",
      "For example, when doing 'df[col].method(value, inplace=True)', try using 'df.method({col: value}, inplace=True)' or df[col] = df[col].method(value) instead, to perform the operation inplace on the original object.\n",
      "\n",
      "\n",
      "  data_no_covid_filtered[col].fillna(data_no_covid_filtered[col].median(), inplace=True)\n",
      "C:\\Users\\ADMIN\\AppData\\Local\\Temp\\ipykernel_20224\\1936885467.py:5: SettingWithCopyWarning: \n",
>>>>>>> 22d5528f25ad860368f6f909aa528518bd4d33c5
      "A value is trying to be set on a copy of a slice from a DataFrame\n",
      "\n",
      "See the caveats in the documentation: https://pandas.pydata.org/pandas-docs/stable/user_guide/indexing.html#returning-a-view-versus-a-copy\n",
      "  data_no_covid_filtered[col].fillna(data_no_covid_filtered[col].median(), inplace=True)\n"
     ]
    },
    {
     "data": {
      "text/plain": [
       "Năm                                                  0\n",
       "Tháng                                                0\n",
       "Chỉ tiêu                                             0\n",
       "Ước tính mỗi tháng                                   0\n",
       "Tổng lượt khách cả năm                               0\n",
       "So với tháng trước (%)                               0\n",
       "So sánh tháng này ở năm trước(%)                     0\n",
       "So sánh tổng lượt khách với cùng kỳ năm trước (%)    0\n",
       "dtype: int64"
      ]
     },
     "execution_count": 7,
     "metadata": {},
     "output_type": "execute_result"
    }
   ],
   "source": [
    "# Kiểm tra missing values\n",
    "# Điền giá trị missing bằng median\n",
    "for col in data_no_covid_filtered.columns:\n",
    "    if data_no_covid_filtered[col].isnull().sum() > 0:\n",
    "        data_no_covid_filtered[col].fillna(data_no_covid_filtered[col].median(), inplace=True)\n",
    "data_no_covid_filtered.isnull().sum()"
   ]
  },
  {
   "cell_type": "code",
   "execution_count": 8,
   "id": "63429bd7-ab21-4053-8567-dff63fe795a9",
   "metadata": {},
   "outputs": [
    {
     "name": "stderr",
     "output_type": "stream",
     "text": [
<<<<<<< HEAD
      "C:\\Users\\Admin\\AppData\\Local\\Temp\\ipykernel_14120\\2480469071.py:4: SettingWithCopyWarning: \n",
=======
      "C:\\Users\\ADMIN\\AppData\\Local\\Temp\\ipykernel_20224\\2480469071.py:4: SettingWithCopyWarning: \n",
>>>>>>> 22d5528f25ad860368f6f909aa528518bd4d33c5
      "A value is trying to be set on a copy of a slice from a DataFrame.\n",
      "Try using .loc[row_indexer,col_indexer] = value instead\n",
      "\n",
      "See the caveats in the documentation: https://pandas.pydata.org/pandas-docs/stable/user_guide/indexing.html#returning-a-view-versus-a-copy\n",
      "  data_no_covid_filtered[col] = stats.mstats.winsorize(data_no_covid_filtered[col], limits=[0.05, 0.05])\n"
     ]
    },
    {
     "data": {
      "text/html": [
       "<div>\n",
       "<style scoped>\n",
       "    .dataframe tbody tr th:only-of-type {\n",
       "        vertical-align: middle;\n",
       "    }\n",
       "\n",
       "    .dataframe tbody tr th {\n",
       "        vertical-align: top;\n",
       "    }\n",
       "\n",
       "    .dataframe thead th {\n",
       "        text-align: right;\n",
       "    }\n",
       "</style>\n",
       "<table border=\"1\" class=\"dataframe\">\n",
       "  <thead>\n",
       "    <tr style=\"text-align: right;\">\n",
       "      <th></th>\n",
       "      <th>Ước tính mỗi tháng</th>\n",
       "      <th>Tổng lượt khách cả năm</th>\n",
       "      <th>So với tháng trước (%)</th>\n",
       "      <th>So sánh tháng này ở năm trước(%)</th>\n",
       "      <th>So sánh tổng lượt khách với cùng kỳ năm trước (%)</th>\n",
       "    </tr>\n",
       "  </thead>\n",
       "  <tbody>\n",
       "    <tr>\n",
       "      <th>count</th>\n",
       "      <td>1874.000000</td>\n",
       "      <td>1.874000e+03</td>\n",
       "      <td>1874.000000</td>\n",
       "      <td>1874.000000</td>\n",
       "      <td>1874.000000</td>\n",
       "    </tr>\n",
       "    <tr>\n",
       "      <th>mean</th>\n",
       "      <td>38423.012273</td>\n",
       "      <td>1.902510e+05</td>\n",
       "      <td>113.487247</td>\n",
       "      <td>266.926147</td>\n",
       "      <td>276.688367</td>\n",
       "    </tr>\n",
       "    <tr>\n",
       "      <th>std</th>\n",
       "      <td>74225.463473</td>\n",
       "      <td>3.489062e+05</td>\n",
       "      <td>39.007825</td>\n",
       "      <td>443.603293</td>\n",
       "      <td>369.318187</td>\n",
       "    </tr>\n",
       "    <tr>\n",
       "      <th>min</th>\n",
       "      <td>137.000000</td>\n",
       "      <td>3.530000e+02</td>\n",
       "      <td>56.800000</td>\n",
       "      <td>79.500000</td>\n",
       "      <td>94.900000</td>\n",
       "    </tr>\n",
       "    <tr>\n",
       "      <th>25%</th>\n",
       "      <td>3139.000000</td>\n",
       "      <td>1.301675e+04</td>\n",
       "      <td>87.300000</td>\n",
       "      <td>111.300000</td>\n",
       "      <td>117.800000</td>\n",
       "    </tr>\n",
       "    <tr>\n",
       "      <th>50%</th>\n",
       "      <td>11010.000000</td>\n",
       "      <td>4.837600e+04</td>\n",
       "      <td>107.100000</td>\n",
       "      <td>125.500000</td>\n",
       "      <td>133.400000</td>\n",
       "    </tr>\n",
       "    <tr>\n",
       "      <th>75%</th>\n",
       "      <td>33223.250000</td>\n",
       "      <td>1.756082e+05</td>\n",
       "      <td>130.400000</td>\n",
       "      <td>155.400000</td>\n",
       "      <td>180.475000</td>\n",
       "    </tr>\n",
       "    <tr>\n",
       "      <th>max</th>\n",
       "      <td>306107.000000</td>\n",
       "      <td>1.443633e+06</td>\n",
       "      <td>218.900000</td>\n",
       "      <td>1987.700000</td>\n",
       "      <td>1567.900000</td>\n",
       "    </tr>\n",
       "  </tbody>\n",
       "</table>\n",
       "</div>"
      ],
      "text/plain": [
       "       Ước tính mỗi tháng  Tổng lượt khách cả năm  So với tháng trước (%)  \\\n",
       "count         1874.000000            1.874000e+03             1874.000000   \n",
       "mean         38423.012273            1.902510e+05              113.487247   \n",
       "std          74225.463473            3.489062e+05               39.007825   \n",
       "min            137.000000            3.530000e+02               56.800000   \n",
       "25%           3139.000000            1.301675e+04               87.300000   \n",
       "50%          11010.000000            4.837600e+04              107.100000   \n",
       "75%          33223.250000            1.756082e+05              130.400000   \n",
       "max         306107.000000            1.443633e+06              218.900000   \n",
       "\n",
       "       So sánh tháng này ở năm trước(%)  \\\n",
       "count                       1874.000000   \n",
       "mean                         266.926147   \n",
       "std                          443.603293   \n",
       "min                           79.500000   \n",
       "25%                          111.300000   \n",
       "50%                          125.500000   \n",
       "75%                          155.400000   \n",
       "max                         1987.700000   \n",
       "\n",
       "       So sánh tổng lượt khách với cùng kỳ năm trước (%)  \n",
       "count                                        1874.000000  \n",
       "mean                                          276.688367  \n",
       "std                                           369.318187  \n",
       "min                                            94.900000  \n",
       "25%                                           117.800000  \n",
       "50%                                           133.400000  \n",
       "75%                                           180.475000  \n",
       "max                                          1567.900000  "
      ]
     },
     "execution_count": 8,
     "metadata": {},
     "output_type": "execute_result"
    }
   ],
   "source": [
    "from scipy import stats\n",
    "#Winsorization outlier\n",
    "for col in columns_to_convert:\n",
    "    data_no_covid_filtered[col] = stats.mstats.winsorize(data_no_covid_filtered[col], limits=[0.05, 0.05])\n",
    "\n",
    "# Kiểm tra lại phân bố sau khi Winsorization\n",
    "data_no_covid_filtered[columns_to_convert].describe()"
   ]
  },
  {
   "cell_type": "code",
<<<<<<< HEAD
   "execution_count": 9,
=======
   "execution_count": 11,
   "id": "9d7501f2",
   "metadata": {},
   "outputs": [
    {
     "name": "stdout",
     "output_type": "stream",
     "text": [
      "Collecting sklearn\n",
      "  Using cached sklearn-0.0.post12.tar.gz (2.6 kB)\n",
      "  Installing build dependencies: started\n",
      "  Installing build dependencies: finished with status 'done'\n",
      "  Getting requirements to build wheel: started\n",
      "  Getting requirements to build wheel: finished with status 'error'\n",
      "Note: you may need to restart the kernel to use updated packages.\n"
     ]
    },
    {
     "name": "stderr",
     "output_type": "stream",
     "text": [
      "  error: subprocess-exited-with-error\n",
      "  \n",
      "  × Getting requirements to build wheel did not run successfully.\n",
      "  │ exit code: 1\n",
      "  ╰─> [15 lines of output]\n",
      "      The 'sklearn' PyPI package is deprecated, use 'scikit-learn'\n",
      "      rather than 'sklearn' for pip commands.\n",
      "      \n",
      "      Here is how to fix this error in the main use cases:\n",
      "      - use 'pip install scikit-learn' rather than 'pip install sklearn'\n",
      "      - replace 'sklearn' by 'scikit-learn' in your pip requirements files\n",
      "        (requirements.txt, setup.py, setup.cfg, Pipfile, etc ...)\n",
      "      - if the 'sklearn' package is used by one of your dependencies,\n",
      "        it would be great if you take some time to track which package uses\n",
      "        'sklearn' instead of 'scikit-learn' and report it to their issue tracker\n",
      "      - as a last resort, set the environment variable\n",
      "        SKLEARN_ALLOW_DEPRECATED_SKLEARN_PACKAGE_INSTALL=True to avoid this error\n",
      "      \n",
      "      More information is available at\n",
      "      https://github.com/scikit-learn/sklearn-pypi-package\n",
      "      [end of output]\n",
      "  \n",
      "  note: This error originates from a subprocess, and is likely not a problem with pip.\n",
      "error: subprocess-exited-with-error\n",
      "\n",
      "× Getting requirements to build wheel did not run successfully.\n",
      "│ exit code: 1\n",
      "╰─> See above for output.\n",
      "\n",
      "note: This error originates from a subprocess, and is likely not a problem with pip.\n"
     ]
    }
   ],
   "source": [
    "pip install sklearn"
   ]
  },
  {
   "cell_type": "code",
   "execution_count": 12,
>>>>>>> 22d5528f25ad860368f6f909aa528518bd4d33c5
   "id": "7cf12a55-bb52-4b2b-ad54-9a4168ff0597",
   "metadata": {},
   "outputs": [
    {
<<<<<<< HEAD
     "data": {
      "text/html": [
       "<div>\n",
       "<style scoped>\n",
       "    .dataframe tbody tr th:only-of-type {\n",
       "        vertical-align: middle;\n",
       "    }\n",
       "\n",
       "    .dataframe tbody tr th {\n",
       "        vertical-align: top;\n",
       "    }\n",
       "\n",
       "    .dataframe thead th {\n",
       "        text-align: right;\n",
       "    }\n",
       "</style>\n",
       "<table border=\"1\" class=\"dataframe\">\n",
       "  <thead>\n",
       "    <tr style=\"text-align: right;\">\n",
       "      <th></th>\n",
       "      <th>Năm</th>\n",
       "      <th>Tháng</th>\n",
       "      <th>Chỉ tiêu</th>\n",
       "    </tr>\n",
       "  </thead>\n",
       "  <tbody>\n",
       "    <tr>\n",
       "      <th>0</th>\n",
       "      <td>2019</td>\n",
       "      <td>t1</td>\n",
       "      <td>0</td>\n",
       "    </tr>\n",
       "    <tr>\n",
       "      <th>1</th>\n",
       "      <td>2019</td>\n",
       "      <td>t1</td>\n",
       "      <td>1</td>\n",
       "    </tr>\n",
       "    <tr>\n",
       "      <th>2</th>\n",
       "      <td>2019</td>\n",
       "      <td>t1</td>\n",
       "      <td>2</td>\n",
       "    </tr>\n",
       "    <tr>\n",
       "      <th>3</th>\n",
       "      <td>2019</td>\n",
       "      <td>t1</td>\n",
       "      <td>34</td>\n",
       "    </tr>\n",
       "    <tr>\n",
       "      <th>4</th>\n",
       "      <td>2019</td>\n",
       "      <td>t1</td>\n",
       "      <td>43</td>\n",
       "    </tr>\n",
       "    <tr>\n",
       "      <th>...</th>\n",
       "      <td>...</td>\n",
       "      <td>...</td>\n",
       "      <td>...</td>\n",
       "    </tr>\n",
       "    <tr>\n",
       "      <th>1890</th>\n",
       "      <td>2024</td>\n",
       "      <td>t11</td>\n",
       "      <td>11</td>\n",
       "    </tr>\n",
       "    <tr>\n",
       "      <th>1891</th>\n",
       "      <td>2024</td>\n",
       "      <td>t11</td>\n",
       "      <td>25</td>\n",
       "    </tr>\n",
       "    <tr>\n",
       "      <th>1892</th>\n",
       "      <td>2024</td>\n",
       "      <td>t11</td>\n",
       "      <td>40</td>\n",
       "    </tr>\n",
       "    <tr>\n",
       "      <th>1893</th>\n",
       "      <td>2024</td>\n",
       "      <td>t11</td>\n",
       "      <td>13</td>\n",
       "    </tr>\n",
       "    <tr>\n",
       "      <th>1894</th>\n",
       "      <td>2024</td>\n",
       "      <td>t11</td>\n",
       "      <td>8</td>\n",
       "    </tr>\n",
       "  </tbody>\n",
       "</table>\n",
       "<p>1874 rows × 3 columns</p>\n",
       "</div>"
      ],
      "text/plain": [
       "       Năm Tháng  Chỉ tiêu\n",
       "0     2019    t1         0\n",
       "1     2019    t1         1\n",
       "2     2019    t1         2\n",
       "3     2019    t1        34\n",
       "4     2019    t1        43\n",
       "...    ...   ...       ...\n",
       "1890  2024   t11        11\n",
       "1891  2024   t11        25\n",
       "1892  2024   t11        40\n",
       "1893  2024   t11        13\n",
       "1894  2024   t11         8\n",
       "\n",
       "[1874 rows x 3 columns]"
      ]
     },
     "execution_count": 9,
     "metadata": {},
     "output_type": "execute_result"
=======
     "ename": "ModuleNotFoundError",
     "evalue": "No module named 'sklearn'",
     "output_type": "error",
     "traceback": [
      "\u001b[1;31m---------------------------------------------------------------------------\u001b[0m",
      "\u001b[1;31mModuleNotFoundError\u001b[0m                       Traceback (most recent call last)",
      "Cell \u001b[1;32mIn[12], line 1\u001b[0m\n\u001b[1;32m----> 1\u001b[0m \u001b[38;5;28;01mfrom\u001b[39;00m \u001b[38;5;21;01msklearn\u001b[39;00m\u001b[38;5;21;01m.\u001b[39;00m\u001b[38;5;21;01mpreprocessing\u001b[39;00m \u001b[38;5;28;01mimport\u001b[39;00m LabelEncoder\n\u001b[0;32m      2\u001b[0m label_encoder \u001b[38;5;241m=\u001b[39m LabelEncoder()\n\u001b[0;32m      3\u001b[0m data_encoded \u001b[38;5;241m=\u001b[39m data_no_covid_filtered\u001b[38;5;241m.\u001b[39mcopy()\n",
      "\u001b[1;31mModuleNotFoundError\u001b[0m: No module named 'sklearn'"
     ]
>>>>>>> 22d5528f25ad860368f6f909aa528518bd4d33c5
    }
   ],
   "source": [
    "from sklearn.preprocessing import LabelEncoder\n",
    "label_encoder = LabelEncoder()\n",
    "data_encoded = data_no_covid_filtered.copy()\n",
    "data_encoded['Chỉ tiêu'] = label_encoder.fit_transform(data_encoded['Chỉ tiêu'])"
   ]
  },
  {
   "cell_type": "code",
<<<<<<< HEAD
   "execution_count": 10,
=======
   "execution_count": 77,
>>>>>>> 22d5528f25ad860368f6f909aa528518bd4d33c5
   "id": "c9d8ba5a-30c8-4950-80a6-85bcc079ffb8",
   "metadata": {},
   "outputs": [
    {
     "data": {
      "text/html": [
       "<div>\n",
       "<style scoped>\n",
       "    .dataframe tbody tr th:only-of-type {\n",
       "        vertical-align: middle;\n",
       "    }\n",
       "\n",
       "    .dataframe tbody tr th {\n",
       "        vertical-align: top;\n",
       "    }\n",
       "\n",
       "    .dataframe thead th {\n",
       "        text-align: right;\n",
       "    }\n",
       "</style>\n",
       "<table border=\"1\" class=\"dataframe\">\n",
       "  <thead>\n",
       "    <tr style=\"text-align: right;\">\n",
       "      <th></th>\n",
       "      <th>Variable</th>\n",
       "      <th>VIF</th>\n",
       "    </tr>\n",
       "  </thead>\n",
       "  <tbody>\n",
       "    <tr>\n",
       "      <th>0</th>\n",
       "      <td>Ước tính mỗi tháng</td>\n",
       "      <td>8.599474</td>\n",
       "    </tr>\n",
       "    <tr>\n",
       "      <th>1</th>\n",
       "      <td>Tổng lượt khách cả năm</td>\n",
       "      <td>8.618343</td>\n",
       "    </tr>\n",
       "    <tr>\n",
       "      <th>2</th>\n",
       "      <td>So với tháng trước (%)</td>\n",
       "      <td>1.518473</td>\n",
       "    </tr>\n",
       "    <tr>\n",
       "      <th>3</th>\n",
       "      <td>So sánh tháng này ở năm trước(%)</td>\n",
       "      <td>1.347999</td>\n",
       "    </tr>\n",
       "  </tbody>\n",
       "</table>\n",
       "</div>"
      ],
      "text/plain": [
       "                           Variable       VIF\n",
       "0                Ước tính mỗi tháng  8.599474\n",
       "1            Tổng lượt khách cả năm  8.618343\n",
       "2            So với tháng trước (%)  1.518473\n",
       "3  So sánh tháng này ở năm trước(%)  1.347999"
      ]
     },
<<<<<<< HEAD
     "execution_count": 10,
=======
     "execution_count": 77,
>>>>>>> 22d5528f25ad860368f6f909aa528518bd4d33c5
     "metadata": {},
     "output_type": "execute_result"
    }
   ],
   "source": [
    "from statsmodels.stats.outliers_influence import variance_inflation_factor\n",
    "\n",
    "#Kiểm tra đa cộng tuyến (VIF)\n",
    "X = data_encoded[['Ước tính mỗi tháng', 'Tổng lượt khách cả năm', \n",
    "                  'So với tháng trước (%)', 'So sánh tháng này ở năm trước(%)']]\n",
    "X = X.dropna()\n",
    "vif = pd.DataFrame()\n",
    "vif[\"Variable\"] = X.columns\n",
    "vif[\"VIF\"] = [variance_inflation_factor(X.values, i) for i in range(X.shape[1])]\n",
    "\n",
    "vif"
   ]
  },
  {
   "cell_type": "code",
<<<<<<< HEAD
   "execution_count": 11,
=======
   "execution_count": 78,
>>>>>>> 22d5528f25ad860368f6f909aa528518bd4d33c5
   "id": "c061278f-7291-4ecc-a3d0-3bbc058a51a1",
   "metadata": {},
   "outputs": [
    {
     "data": {
      "text/plain": [
       "(Ước tính mỗi tháng                                   0.893588\n",
       " Tổng lượt khách cả năm                               0.684198\n",
       " So với tháng trước (%)                               1.037917\n",
       " So sánh tháng này ở năm trước(%)                     2.618937\n",
       " So sánh tổng lượt khách với cùng kỳ năm trước (%)    2.702700\n",
       " dtype: float64,\n",
       " Ước tính mỗi tháng                                   0.569943\n",
       " Tổng lượt khách cả năm                               0.007875\n",
       " So với tháng trước (%)                               0.935872\n",
       " So sánh tháng này ở năm trước(%)                     5.929774\n",
       " So sánh tổng lượt khách với cùng kỳ năm trước (%)    6.172548\n",
       " dtype: float64)"
      ]
     },
<<<<<<< HEAD
     "execution_count": 11,
=======
     "execution_count": 78,
>>>>>>> 22d5528f25ad860368f6f909aa528518bd4d33c5
     "metadata": {},
     "output_type": "execute_result"
    }
   ],
   "source": [
    "#Phân bố dữ liệu (skewness và kurtosis)\n",
    "distribution = data_no_covid_filtered[columns_to_convert].describe()\n",
    "skewness = data_no_covid_filtered[columns_to_convert].skew()\n",
    "kurtosis = data_no_covid_filtered[columns_to_convert].kurt()\n",
    "skewness,kurtosis"
   ]
  },
  {
   "cell_type": "code",
<<<<<<< HEAD
   "execution_count": 12,
=======
   "execution_count": 80,
>>>>>>> 22d5528f25ad860368f6f909aa528518bd4d33c5
   "id": "e49f7a99-6bb6-445b-9119-9bc7d3ad4e7b",
   "metadata": {},
   "outputs": [
    {
     "name": "stdout",
     "output_type": "stream",
     "text": [
      "R2 Score: 0.6227256312831859\n",
      "MSE: 43406.792257876\n"
     ]
    }
   ],
   "source": [
    "from sklearn.linear_model import LinearRegression\n",
    "from sklearn.model_selection import train_test_split\n",
    "from sklearn.metrics import mean_squared_error, r2_score\n",
    "from sklearn.preprocessing import StandardScaler\n",
    "\n",
    "# Tạo biến đầu vào và đầu ra\n",
    "X = data_no_covid_filtered[['Ước tính mỗi tháng', 'Tổng lượt khách cả năm', \n",
    "                            'So với tháng trước (%)', 'So sánh tháng này ở năm trước(%)']]\n",
    "y = data_no_covid_filtered['So sánh tổng lượt khách với cùng kỳ năm trước (%)']\n",
    "\n",
    "# Chia dữ liệu thành tập huấn luyện và kiểm tra\n",
    "X_train, X_test, y_train, y_test = train_test_split(X, y, test_size=0.4, random_state=42)\n",
    "\n",
    "# 1. Huấn luyện mô hình Linear Regression (loại bỏ 'Tổng lượt khách cả năm')\n",
    "X_train_lr = X_train.drop(columns=['Tổng lượt khách cả năm'])\n",
    "X_test_lr = X_test.drop(columns=['Tổng lượt khách cả năm'])\n",
    "\n",
    "scaler = StandardScaler()\n",
    "X_train_scaled = scaler.fit_transform(X_train_lr)\n",
    "X_test_scaled = scaler.transform(X_test_lr)\n",
    "\n",
    "lr = LinearRegression()\n",
    "lr.fit(X_train_scaled, y_train)\n",
    "y_pred_lr = lr.predict(X_test_scaled)\n",
    "r2_lr = r2_score(y_test, y_pred_lr)\n",
    "mse_lr = mean_squared_error(y_test, y_pred_lr)\n",
    "print(f\"R2 Score: {r2_lr}\")\n",
    "print(f\"MSE: {mse_lr}\")"
   ]
  },
  {
   "cell_type": "code",
<<<<<<< HEAD
   "execution_count": 13,
=======
   "execution_count": 81,
   "id": "59f0734d-b3c4-4953-a796-7b86c7961525",
   "metadata": {},
   "outputs": [
    {
     "name": "stderr",
     "output_type": "stream",
     "text": [
      "C:\\Users\\Admin\\AppData\\Local\\Temp\\ipykernel_7604\\3372116826.py:1: SettingWithCopyWarning: \n",
      "A value is trying to be set on a copy of a slice from a DataFrame.\n",
      "Try using .loc[row_indexer,col_indexer] = value instead\n",
      "\n",
      "See the caveats in the documentation: https://pandas.pydata.org/pandas-docs/stable/user_guide/indexing.html#returning-a-view-versus-a-copy\n",
      "  data_no_covid_filtered['So sánh tháng này ở năm trước(%)'] = np.sqrt(data_no_covid_filtered['So sánh tháng này ở năm trước(%)'])\n",
      "C:\\Users\\Admin\\AppData\\Local\\Temp\\ipykernel_7604\\3372116826.py:2: SettingWithCopyWarning: \n",
      "A value is trying to be set on a copy of a slice from a DataFrame.\n",
      "Try using .loc[row_indexer,col_indexer] = value instead\n",
      "\n",
      "See the caveats in the documentation: https://pandas.pydata.org/pandas-docs/stable/user_guide/indexing.html#returning-a-view-versus-a-copy\n",
      "  data_no_covid_filtered['Ước tính mỗi tháng'] = np.sqrt(data_no_covid_filtered['Ước tính mỗi tháng'])\n",
      "C:\\Users\\Admin\\AppData\\Local\\Temp\\ipykernel_7604\\3372116826.py:3: SettingWithCopyWarning: \n",
      "A value is trying to be set on a copy of a slice from a DataFrame.\n",
      "Try using .loc[row_indexer,col_indexer] = value instead\n",
      "\n",
      "See the caveats in the documentation: https://pandas.pydata.org/pandas-docs/stable/user_guide/indexing.html#returning-a-view-versus-a-copy\n",
      "  data_no_covid_filtered['Tổng lượt khách cả năm'] = np.sqrt(data_no_covid_filtered['Tổng lượt khách cả năm'])\n"
     ]
    }
   ],
   "source": [
    "data_no_covid_filtered['So sánh tháng này ở năm trước(%)'] = np.sqrt(data_no_covid_filtered['So sánh tháng này ở năm trước(%)'])\n",
    "data_no_covid_filtered['Ước tính mỗi tháng'] = np.sqrt(data_no_covid_filtered['Ước tính mỗi tháng'])\n",
    "data_no_covid_filtered['Tổng lượt khách cả năm'] = np.sqrt(data_no_covid_filtered['Tổng lượt khách cả năm'])"
   ]
  },
  {
   "cell_type": "code",
   "execution_count": 87,
>>>>>>> 22d5528f25ad860368f6f909aa528518bd4d33c5
   "id": "a05fdab7-7e30-4d8b-9170-db3ab0acbd6d",
   "metadata": {},
   "outputs": [
    {
     "name": "stdout",
     "output_type": "stream",
     "text": [
      "R^2 Score (Random Forest): 0.7057591234037832\n"
     ]
    }
   ],
   "source": [
    "from sklearn.ensemble import RandomForestRegressor\n",
    "rf = RandomForestRegressor(random_state=42)\n",
    "rf.fit(X_train, y_train)\n",
    "y_pred_rf = rf.predict(X_test)\n",
    "print(\"R^2 Score (Random Forest):\", r2_score(y_test, y_pred_rf))"
   ]
  },
  {
   "cell_type": "code",
<<<<<<< HEAD
   "execution_count": 14,
=======
   "execution_count": 88,
   "id": "da55067e-2de2-4cbb-aefa-84d881de0288",
   "metadata": {},
   "outputs": [
    {
     "name": "stdout",
     "output_type": "stream",
     "text": [
      "R^2 Score (Random Forest - Sau khi loại bỏ): 0.6464163966363212\n"
     ]
    }
   ],
   "source": [
    "X_train_rf = X_train.drop(columns=['Ước tính mỗi tháng', 'Tổng lượt khách cả năm'])\n",
    "X_test_rf = X_test.drop(columns=['Ước tính mỗi tháng', 'Tổng lượt khách cả năm'])\n",
    "\n",
    "rf.fit(X_train_rf, y_train)\n",
    "y_pred_rf = rf.predict(X_test_rf)\n",
    "\n",
    "print(\"R^2 Score (Random Forest - Sau khi loại bỏ):\", r2_score(y_test, y_pred_rf))\n"
   ]
  },
  {
   "cell_type": "code",
   "execution_count": 89,
   "id": "058959fc-2f08-4886-b85d-161fff4c44fe",
   "metadata": {},
   "outputs": [],
   "source": [
    "from sklearn.preprocessing import StandardScaler\n",
    "\n",
    "scaler = StandardScaler()\n",
    "X_train_scaled = scaler.fit_transform(X_train)\n",
    "X_test_scaled = scaler.transform(X_test)"
   ]
  },
  {
   "cell_type": "code",
   "execution_count": 90,
   "id": "bf684029-58b2-4f91-b731-28d3f30728aa",
   "metadata": {},
   "outputs": [
    {
     "name": "stdout",
     "output_type": "stream",
     "text": [
      "Tỉ lệ phương sai giải thích: [0.49026649 0.2565748 ]\n"
     ]
    }
   ],
   "source": [
    "from sklearn.decomposition import PCA\n",
    "\n",
    "# Áp dụng PCA để giảm chiều\n",
    "pca = PCA(n_components=2)  # Giảm xuống 2 thành phần chính\n",
    "X_train_pca = pca.fit_transform(X_train_scaled)\n",
    "X_test_pca = pca.transform(X_test_scaled)\n",
    "\n",
    "print(\"Tỉ lệ phương sai giải thích:\", pca.explained_variance_ratio_)\n"
   ]
  },
  {
   "cell_type": "code",
   "execution_count": 91,
>>>>>>> 22d5528f25ad860368f6f909aa528518bd4d33c5
   "id": "09051792-1343-4716-8cd0-15348d7fd229",
   "metadata": {},
   "outputs": [
    {
     "name": "stdout",
     "output_type": "stream",
     "text": [
      "Fitting 5 folds for each of 16 candidates, totalling 80 fits\n"
     ]
    },
    {
     "data": {
      "text/plain": [
       "({'max_depth': 10,\n",
       "  'max_features': 'sqrt',\n",
       "  'min_samples_leaf': 2,\n",
       "  'min_samples_split': 5,\n",
       "  'n_estimators': 100},\n",
       " 0.7506829827933886)"
      ]
     },
<<<<<<< HEAD
     "execution_count": 14,
=======
     "execution_count": 91,
>>>>>>> 22d5528f25ad860368f6f909aa528518bd4d33c5
     "metadata": {},
     "output_type": "execute_result"
    }
   ],
   "source": [
    "from sklearn.model_selection import GridSearchCV\n",
    "\n",
    "# Thiết lập lưới tham số để tuning\n",
    "param_grid = {\n",
    "    'n_estimators': [100, 200],\n",
    "    'max_depth': [10, 20],\n",
    "    'min_samples_split': [2, 5],\n",
    "    'min_samples_leaf': [1, 2],\n",
    "    'max_features': ['sqrt']\n",
    "}\n",
    "\n",
    "# Khởi tạo GridSearchCV\n",
    "grid_search = GridSearchCV(estimator=rf,\n",
    "                           param_grid=param_grid,\n",
    "                           cv=5,  # Cross-validation 5-fold\n",
    "                           scoring='r2',\n",
    "                           n_jobs=-1,\n",
    "                           verbose=2)\n",
    "\n",
    "# Huấn luyện với tập dữ liệu ban đầu (không loại bỏ biến)\n",
    "grid_search.fit(X_train, y_train)\n",
    "\n",
    "# Lấy tham số tốt nhất\n",
    "best_params = grid_search.best_params_\n",
    "best_score = grid_search.best_score_\n",
    "\n",
    "best_params, best_score\n"
   ]
  },
  {
   "cell_type": "code",
<<<<<<< HEAD
   "execution_count": 15,
=======
   "execution_count": 18,
>>>>>>> 22d5528f25ad860368f6f909aa528518bd4d33c5
   "id": "6c9fbcc6-99af-47c1-a420-1d0edf310730",
   "metadata": {},
   "outputs": [
    {
     "name": "stdout",
     "output_type": "stream",
     "text": [
      "R^2 Score (Tuned Random Forest): 0.7262719979769716\n"
     ]
    }
   ],
   "source": [
    "# Khởi tạo mô hình Random Forest với tham số tốt nhất\n",
    "rf_best = RandomForestRegressor(**grid_search.best_params_, random_state=42)\n",
    "\n",
    "# Huấn luyện lại mô hình với tập dữ liệu huấn luyện\n",
    "rf_best.fit(X_train, y_train)\n",
    "\n",
    "# Dự đoán và đánh giá\n",
    "y_pred_rf_best = rf_best.predict(X_test)\n",
    "print(\"R^2 Score (Tuned Random Forest):\", r2_score(y_test, y_pred_rf_best))\n"
   ]
  },
  {
   "cell_type": "code",
<<<<<<< HEAD
   "execution_count": 16,
   "id": "7401ef3d-ad73-4824-97fc-2854f01ea8eb",
   "metadata": {},
   "outputs": [
    {
     "name": "stderr",
     "output_type": "stream",
     "text": [
      "C:\\Users\\Admin\\AppData\\Local\\Temp\\ipykernel_14120\\3372116826.py:1: SettingWithCopyWarning: \n",
      "A value is trying to be set on a copy of a slice from a DataFrame.\n",
      "Try using .loc[row_indexer,col_indexer] = value instead\n",
      "\n",
      "See the caveats in the documentation: https://pandas.pydata.org/pandas-docs/stable/user_guide/indexing.html#returning-a-view-versus-a-copy\n",
      "  data_no_covid_filtered['So sánh tháng này ở năm trước(%)'] = np.sqrt(data_no_covid_filtered['So sánh tháng này ở năm trước(%)'])\n",
      "C:\\Users\\Admin\\AppData\\Local\\Temp\\ipykernel_14120\\3372116826.py:2: SettingWithCopyWarning: \n",
      "A value is trying to be set on a copy of a slice from a DataFrame.\n",
      "Try using .loc[row_indexer,col_indexer] = value instead\n",
      "\n",
      "See the caveats in the documentation: https://pandas.pydata.org/pandas-docs/stable/user_guide/indexing.html#returning-a-view-versus-a-copy\n",
      "  data_no_covid_filtered['Ước tính mỗi tháng'] = np.sqrt(data_no_covid_filtered['Ước tính mỗi tháng'])\n",
      "C:\\Users\\Admin\\AppData\\Local\\Temp\\ipykernel_14120\\3372116826.py:3: SettingWithCopyWarning: \n",
      "A value is trying to be set on a copy of a slice from a DataFrame.\n",
      "Try using .loc[row_indexer,col_indexer] = value instead\n",
      "\n",
      "See the caveats in the documentation: https://pandas.pydata.org/pandas-docs/stable/user_guide/indexing.html#returning-a-view-versus-a-copy\n",
      "  data_no_covid_filtered['Tổng lượt khách cả năm'] = np.sqrt(data_no_covid_filtered['Tổng lượt khách cả năm'])\n"
     ]
    }
   ],
   "source": [
    "data_no_covid_filtered['So sánh tháng này ở năm trước(%)'] = np.sqrt(data_no_covid_filtered['So sánh tháng này ở năm trước(%)'])\n",
    "data_no_covid_filtered['Ước tính mỗi tháng'] = np.sqrt(data_no_covid_filtered['Ước tính mỗi tháng'])\n",
    "data_no_covid_filtered['Tổng lượt khách cả năm'] = np.sqrt(data_no_covid_filtered['Tổng lượt khách cả năm'])"
   ]
  },
  {
   "cell_type": "code",
   "execution_count": 17,
=======
   "execution_count": 93,
>>>>>>> 22d5528f25ad860368f6f909aa528518bd4d33c5
   "id": "22c0d161-cdbf-488b-a2ef-e53872808ee4",
   "metadata": {},
   "outputs": [
    {
     "name": "stderr",
     "output_type": "stream",
     "text": [
<<<<<<< HEAD
      "C:\\Users\\Admin\\AppData\\Local\\Temp\\ipykernel_14120\\3963185598.py:3: UserWarning: Could not infer format, so each element will be parsed individually, falling back to `dateutil`. To ensure parsing is consistent and as-expected, please specify a format.\n",
      "  data['Thời gian'] = pd.to_datetime(data['Năm'].astype(str) + '-' + data['Tháng'])\n",
      "C:\\Users\\Admin\\AppData\\Local\\Temp\\ipykernel_14120\\3963185598.py:3: SettingWithCopyWarning: \n",
=======
      "C:\\Users\\Admin\\AppData\\Local\\Temp\\ipykernel_7604\\3963185598.py:3: UserWarning: Could not infer format, so each element will be parsed individually, falling back to `dateutil`. To ensure parsing is consistent and as-expected, please specify a format.\n",
      "  data['Thời gian'] = pd.to_datetime(data['Năm'].astype(str) + '-' + data['Tháng'])\n",
      "C:\\Users\\Admin\\AppData\\Local\\Temp\\ipykernel_7604\\3963185598.py:3: SettingWithCopyWarning: \n",
>>>>>>> 22d5528f25ad860368f6f909aa528518bd4d33c5
      "A value is trying to be set on a copy of a slice from a DataFrame.\n",
      "Try using .loc[row_indexer,col_indexer] = value instead\n",
      "\n",
      "See the caveats in the documentation: https://pandas.pydata.org/pandas-docs/stable/user_guide/indexing.html#returning-a-view-versus-a-copy\n",
      "  data['Thời gian'] = pd.to_datetime(data['Năm'].astype(str) + '-' + data['Tháng'])\n"
     ]
    },
    {
     "data": {
      "text/plain": [
       "Text(0, 0.5, 'Ước tính mỗi tháng')"
      ]
     },
<<<<<<< HEAD
     "execution_count": 17,
=======
     "execution_count": 93,
>>>>>>> 22d5528f25ad860368f6f909aa528518bd4d33c5
     "metadata": {},
     "output_type": "execute_result"
    },
    {
     "data": {
      "image/png": "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",
      "text/plain": [
       "<Figure size 1000x600 with 1 Axes>"
      ]
     },
     "metadata": {},
     "output_type": "display_data"
    }
   ],
   "source": [
    "import matplotlib.pyplot as plt\n",
    "data = data_no_covid_filtered[['Năm', 'Tháng', 'Ước tính mỗi tháng']]\n",
    "data['Thời gian'] = pd.to_datetime(data['Năm'].astype(str) + '-' + data['Tháng'])\n",
    "data.set_index('Thời gian', inplace=True)\n",
    "data = data['Ước tính mỗi tháng']\n",
    "\n",
    "# Vẽ biểu đồ dữ liệu\n",
    "plt.figure(figsize=(10, 6))\n",
    "plt.plot(data)\n",
    "plt.title(\"Lượng khách du lịch mỗi tháng\")\n",
    "plt.xlabel(\"Thời gian\")\n",
    "plt.ylabel(\"Ước tính mỗi tháng\")"
   ]
  },
  {
   "cell_type": "code",
<<<<<<< HEAD
   "execution_count": 18,
=======
   "execution_count": 94,
>>>>>>> 22d5528f25ad860368f6f909aa528518bd4d33c5
   "id": "7ee96f9b-7376-4fd7-b610-4cbe6102dcc2",
   "metadata": {},
   "outputs": [
    {
     "name": "stdout",
     "output_type": "stream",
     "text": [
      "ADF Statistic: -5.844385274551611\n",
      "p-value: 3.712963120894819e-07\n",
      "Dữ liệu dừng.\n"
     ]
    }
   ],
   "source": [
    "from statsmodels.tsa.stattools import adfuller\n",
    "from statsmodels.graphics.tsaplots import plot_acf, plot_pacf\n",
    "from statsmodels.tsa.arima.model import ARIMA\n",
    "from pmdarima import auto_arima\n",
    "result = adfuller(data)\n",
    "print('ADF Statistic:', result[0])\n",
    "print('p-value:', result[1])\n",
    "\n",
    "if result[1] > 0.05:\n",
    "    print(\"Dữ liệu không dừng, cần thực hiện differencing.\")\n",
    "else:\n",
    "    print(\"Dữ liệu dừng.\")\n"
   ]
  },
  {
   "cell_type": "code",
<<<<<<< HEAD
   "execution_count": 19,
   "id": "3c495121-0652-40ae-bef9-a2c1a6cb10fb",
   "metadata": {},
   "outputs": [
    {
     "name": "stdout",
     "output_type": "stream",
     "text": [
      "Performing stepwise search to minimize aic\n",
      " ARIMA(2,1,2)(0,0,0)[0] intercept   : AIC=23395.503, Time=1.48 sec\n",
      " ARIMA(0,1,0)(0,0,0)[0] intercept   : AIC=24610.950, Time=0.06 sec\n",
      " ARIMA(1,1,0)(0,0,0)[0] intercept   : AIC=23781.440, Time=0.14 sec\n",
      " ARIMA(0,1,1)(0,0,0)[0] intercept   : AIC=23474.577, Time=0.46 sec\n",
      " ARIMA(0,1,0)(0,0,0)[0]             : AIC=24608.954, Time=0.03 sec\n",
      " ARIMA(1,1,2)(0,0,0)[0] intercept   : AIC=23408.650, Time=1.13 sec\n",
      " ARIMA(2,1,1)(0,0,0)[0] intercept   : AIC=23407.711, Time=1.12 sec\n",
      " ARIMA(3,1,2)(0,0,0)[0] intercept   : AIC=23392.931, Time=1.50 sec\n",
      " ARIMA(3,1,1)(0,0,0)[0] intercept   : AIC=inf, Time=1.43 sec\n",
      " ARIMA(4,1,2)(0,0,0)[0] intercept   : AIC=inf, Time=2.73 sec\n",
      " ARIMA(3,1,3)(0,0,0)[0] intercept   : AIC=23391.842, Time=2.11 sec\n",
      " ARIMA(2,1,3)(0,0,0)[0] intercept   : AIC=23393.054, Time=0.92 sec\n",
      " ARIMA(4,1,3)(0,0,0)[0] intercept   : AIC=inf, Time=3.43 sec\n",
      " ARIMA(3,1,4)(0,0,0)[0] intercept   : AIC=23376.182, Time=4.04 sec\n",
      " ARIMA(2,1,4)(0,0,0)[0] intercept   : AIC=inf, Time=3.16 sec\n",
      " ARIMA(4,1,4)(0,0,0)[0] intercept   : AIC=23399.829, Time=1.76 sec\n",
      " ARIMA(3,1,5)(0,0,0)[0] intercept   : AIC=inf, Time=4.52 sec\n",
      " ARIMA(2,1,5)(0,0,0)[0] intercept   : AIC=23393.085, Time=2.07 sec\n",
      " ARIMA(4,1,5)(0,0,0)[0] intercept   : AIC=23366.977, Time=4.16 sec\n",
      " ARIMA(5,1,5)(0,0,0)[0] intercept   : AIC=inf, Time=5.37 sec\n",
      " ARIMA(5,1,4)(0,0,0)[0] intercept   : AIC=inf, Time=4.50 sec\n",
      " ARIMA(4,1,5)(0,0,0)[0]             : AIC=23364.200, Time=2.81 sec\n",
      " ARIMA(3,1,5)(0,0,0)[0]             : AIC=inf, Time=3.21 sec\n",
      " ARIMA(4,1,4)(0,0,0)[0]             : AIC=23397.844, Time=1.02 sec\n",
      " ARIMA(5,1,5)(0,0,0)[0]             : AIC=inf, Time=3.30 sec\n",
      " ARIMA(3,1,4)(0,0,0)[0]             : AIC=23376.943, Time=2.31 sec\n",
      " ARIMA(5,1,4)(0,0,0)[0]             : AIC=inf, Time=3.55 sec\n",
      "\n",
      "Best model:  ARIMA(4,1,5)(0,0,0)[0]          \n",
      "Total fit time: 62.329 seconds\n",
      "                               SARIMAX Results                                \n",
      "==============================================================================\n",
      "Dep. Variable:                      y   No. Observations:                 1874\n",
      "Model:               SARIMAX(4, 1, 5)   Log Likelihood              -11672.100\n",
      "Date:                Mon, 06 Jan 2025   AIC                          23364.200\n",
      "Time:                        08:02:03   BIC                          23419.553\n",
      "Sample:                             0   HQIC                         23384.592\n",
      "                               - 1874                                         \n",
      "Covariance Type:                  opg                                         \n",
      "==============================================================================\n",
      "                 coef    std err          z      P>|z|      [0.025      0.975]\n",
      "------------------------------------------------------------------------------\n",
      "ar.L1         -1.3507      0.018    -75.276      0.000      -1.386      -1.316\n",
      "ar.L2         -1.5930      0.025    -64.310      0.000      -1.642      -1.544\n",
      "ar.L3         -1.2621      0.027    -47.102      0.000      -1.315      -1.210\n",
      "ar.L4         -0.9065      0.016    -55.163      0.000      -0.939      -0.874\n",
      "ma.L1          0.5036      0.023     22.288      0.000       0.459       0.548\n",
      "ma.L2          0.5913      0.024     24.262      0.000       0.544       0.639\n",
      "ma.L3          0.0749      0.026      2.865      0.004       0.024       0.126\n",
      "ma.L4         -0.0080      0.022     -0.373      0.709      -0.050       0.034\n",
      "ma.L5         -0.6979      0.020    -35.377      0.000      -0.737      -0.659\n",
      "sigma2      1.524e+04    319.223     47.740      0.000    1.46e+04    1.59e+04\n",
      "===================================================================================\n",
      "Ljung-Box (L1) (Q):                   7.43   Jarque-Bera (JB):              1949.23\n",
      "Prob(Q):                              0.01   Prob(JB):                         0.00\n",
      "Heteroskedasticity (H):               0.91   Skew:                             1.62\n",
      "Prob(H) (two-sided):                  0.26   Kurtosis:                         6.81\n",
      "===================================================================================\n",
      "\n",
      "Warnings:\n",
      "[1] Covariance matrix calculated using the outer product of gradients (complex-step).\n"
     ]
    }
   ],
   "source": [
    "# Tìm tham số p, d, q tốt nhất bằng auto_arima\n",
    "auto_model = auto_arima(data, seasonal=False, trace=True, \n",
    "                        error_action='ignore', suppress_warnings=True, \n",
    "                        stepwise=True)\n",
    "\n",
    "# Tóm tắt kết quả\n",
    "print(auto_model.summary())\n"
   ]
  },
  {
   "cell_type": "code",
   "execution_count": 29,
=======
   "execution_count": 95,
>>>>>>> 22d5528f25ad860368f6f909aa528518bd4d33c5
   "id": "939a70e3-f273-41f2-9426-3ef417c2afad",
   "metadata": {},
   "outputs": [
    {
     "name": "stderr",
     "output_type": "stream",
     "text": [
      "C:\\Users\\Admin\\anaconda3\\Lib\\site-packages\\statsmodels\\tsa\\base\\tsa_model.py:473: ValueWarning: A date index has been provided, but it has no associated frequency information and so will be ignored when e.g. forecasting.\n",
      "  self._init_dates(dates, freq)\n",
      "C:\\Users\\Admin\\anaconda3\\Lib\\site-packages\\statsmodels\\tsa\\base\\tsa_model.py:473: ValueWarning: A date index has been provided, but it has no associated frequency information and so will be ignored when e.g. forecasting.\n",
      "  self._init_dates(dates, freq)\n",
      "C:\\Users\\Admin\\anaconda3\\Lib\\site-packages\\statsmodels\\tsa\\base\\tsa_model.py:473: ValueWarning: A date index has been provided, but it has no associated frequency information and so will be ignored when e.g. forecasting.\n",
      "  self._init_dates(dates, freq)\n"
     ]
    },
    {
     "name": "stdout",
     "output_type": "stream",
     "text": [
      "                               SARIMAX Results                                \n",
      "==============================================================================\n",
      "Dep. Variable:     Ước tính mỗi tháng   No. Observations:                 1874\n",
<<<<<<< HEAD
      "Model:                 ARIMA(4, 1, 5)   Log Likelihood              -11672.100\n",
      "Date:                Mon, 06 Jan 2025   AIC                          23364.200\n",
      "Time:                        08:04:02   BIC                          23419.553\n",
      "Sample:                             0   HQIC                         23384.592\n",
=======
      "Model:                 ARIMA(4, 1, 4)   Log Likelihood               -1868.048\n",
      "Date:                Sun, 05 Jan 2025   AIC                           3754.096\n",
      "Time:                        17:49:10   BIC                           3803.914\n",
      "Sample:                             0   HQIC                          3772.449\n",
>>>>>>> 22d5528f25ad860368f6f909aa528518bd4d33c5
      "                               - 1874                                         \n",
      "Covariance Type:                  opg                                         \n",
      "==============================================================================\n",
      "                 coef    std err          z      P>|z|      [0.025      0.975]\n",
      "------------------------------------------------------------------------------\n",
      "ar.L1          0.2502      0.058      4.282      0.000       0.136       0.365\n",
      "ar.L2          0.1784      0.067      2.647      0.008       0.046       0.311\n",
      "ar.L3         -0.7091      0.055    -12.840      0.000      -0.817      -0.601\n",
      "ar.L4         -0.2065      0.030     -6.918      0.000      -0.265      -0.148\n",
      "ma.L1         -1.1473      0.057    -19.958      0.000      -1.260      -1.035\n",
      "ma.L2          0.1775      0.112      1.582      0.114      -0.042       0.397\n",
      "ma.L3          0.9026      0.109      8.290      0.000       0.689       1.116\n",
      "ma.L4         -0.6218      0.048    -12.869      0.000      -0.717      -0.527\n",
      "sigma2         0.4280      0.013     32.622      0.000       0.402       0.454\n",
      "===================================================================================\n",
      "Ljung-Box (L1) (Q):                   0.39   Jarque-Bera (JB):               201.81\n",
      "Prob(Q):                              0.53   Prob(JB):                         0.00\n",
      "Heteroskedasticity (H):               1.05   Skew:                             0.63\n",
      "Prob(H) (two-sided):                  0.56   Kurtosis:                         3.99\n",
      "===================================================================================\n",
      "\n",
      "Warnings:\n",
      "[1] Covariance matrix calculated using the outer product of gradients (complex-step).\n"
     ]
    },
    {
     "name": "stderr",
     "output_type": "stream",
     "text": [
      "C:\\Users\\Admin\\anaconda3\\Lib\\site-packages\\statsmodels\\base\\model.py:607: ConvergenceWarning: Maximum Likelihood optimization failed to converge. Check mle_retvals\n",
      "  warnings.warn(\"Maximum Likelihood optimization failed to \"\n",
      "C:\\Users\\Admin\\anaconda3\\Lib\\site-packages\\statsmodels\\tsa\\base\\tsa_model.py:836: ValueWarning: No supported index is available. Prediction results will be given with an integer index beginning at `start`.\n",
      "  return get_prediction_index(\n",
      "C:\\Users\\Admin\\anaconda3\\Lib\\site-packages\\statsmodels\\tsa\\base\\tsa_model.py:836: FutureWarning: No supported index is available. In the next version, calling this method in a model without a supported index will result in an exception.\n",
      "  return get_prediction_index(\n"
     ]
    }
   ],
   "source": [
    "model_414 = ARIMA(data, order=(4,1,4))\n",
    "result_414 = model_414.fit()\n",
    "forecast_414 = result_414.forecast(steps=12)\n",
    "print(result_414.summary())"
   ]
  },
  {
   "cell_type": "code",
<<<<<<< HEAD
   "execution_count": 21,
=======
   "execution_count": 96,
>>>>>>> 22d5528f25ad860368f6f909aa528518bd4d33c5
   "id": "c01d4687-b940-4813-9f85-464b2145e192",
   "metadata": {},
   "outputs": [
    {
     "name": "stderr",
     "output_type": "stream",
     "text": [
      "C:\\Users\\Admin\\anaconda3\\Lib\\site-packages\\statsmodels\\tsa\\base\\tsa_model.py:473: ValueWarning: A date index has been provided, but it has no associated frequency information and so will be ignored when e.g. forecasting.\n",
      "  self._init_dates(dates, freq)\n",
      "C:\\Users\\Admin\\anaconda3\\Lib\\site-packages\\statsmodels\\tsa\\base\\tsa_model.py:473: ValueWarning: A date index has been provided, but it has no associated frequency information and so will be ignored when e.g. forecasting.\n",
      "  self._init_dates(dates, freq)\n",
      "C:\\Users\\Admin\\anaconda3\\Lib\\site-packages\\statsmodels\\tsa\\base\\tsa_model.py:473: ValueWarning: A date index has been provided, but it has no associated frequency information and so will be ignored when e.g. forecasting.\n",
      "  self._init_dates(dates, freq)\n"
     ]
    },
    {
     "name": "stdout",
     "output_type": "stream",
     "text": [
      "Mô hình ARIMA(4,1,2):\n",
      "                               SARIMAX Results                                \n",
      "==============================================================================\n",
      "Dep. Variable:     Ước tính mỗi tháng   No. Observations:                 1874\n",
<<<<<<< HEAD
      "Model:                 ARIMA(4, 1, 2)   Log Likelihood              -11639.867\n",
      "Date:                Mon, 06 Jan 2025   AIC                          23293.734\n",
      "Time:                        08:02:08   BIC                          23332.481\n",
      "Sample:                             0   HQIC                         23308.008\n",
=======
      "Model:                 ARIMA(4, 1, 2)   Log Likelihood               -1856.631\n",
      "Date:                Sun, 05 Jan 2025   AIC                           3727.262\n",
      "Time:                        17:49:14   BIC                           3766.009\n",
      "Sample:                             0   HQIC                          3741.536\n",
>>>>>>> 22d5528f25ad860368f6f909aa528518bd4d33c5
      "                               - 1874                                         \n",
      "Covariance Type:                  opg                                         \n",
      "==============================================================================\n",
      "                 coef    std err          z      P>|z|      [0.025      0.975]\n",
      "------------------------------------------------------------------------------\n",
      "ar.L1         -0.8805      0.040    -22.203      0.000      -0.958      -0.803\n",
      "ar.L2          0.2793      0.030      9.366      0.000       0.221       0.338\n",
      "ar.L3          0.3903      0.033     11.694      0.000       0.325       0.456\n",
      "ar.L4          0.1727      0.027      6.345      0.000       0.119       0.226\n",
      "ma.L1         -0.0210      0.027     -0.766      0.444      -0.075       0.033\n",
      "ma.L2         -0.9507      0.027    -34.604      0.000      -1.005      -0.897\n",
      "sigma2         0.4245      0.013     32.521      0.000       0.399       0.450\n",
      "===================================================================================\n",
      "Ljung-Box (L1) (Q):                   0.08   Jarque-Bera (JB):               132.61\n",
      "Prob(Q):                              0.78   Prob(JB):                         0.00\n",
      "Heteroskedasticity (H):               0.98   Skew:                             0.50\n",
      "Prob(H) (two-sided):                  0.75   Kurtosis:                         3.85\n",
      "===================================================================================\n",
      "\n",
      "Warnings:\n",
      "[1] Covariance matrix calculated using the outer product of gradients (complex-step).\n"
     ]
    },
    {
     "name": "stderr",
     "output_type": "stream",
     "text": [
      "C:\\Users\\Admin\\anaconda3\\Lib\\site-packages\\statsmodels\\tsa\\base\\tsa_model.py:836: ValueWarning: No supported index is available. Prediction results will be given with an integer index beginning at `start`.\n",
      "  return get_prediction_index(\n",
      "C:\\Users\\Admin\\anaconda3\\Lib\\site-packages\\statsmodels\\tsa\\base\\tsa_model.py:836: FutureWarning: No supported index is available. In the next version, calling this method in a model without a supported index will result in an exception.\n",
      "  return get_prediction_index(\n"
     ]
    }
   ],
   "source": [
    "#ARIMA(4,1,2)\n",
    "model_412 = ARIMA(data, order=(4, 1, 2))\n",
    "result_412 = model_412.fit()\n",
    "\n",
    "# Dự báo 12 tháng tiếp theo\n",
    "forecast_412 = result_412.forecast(steps=12)\n",
    "\n",
    "# Hiển thị tóm tắt mô hình\n",
    "print(\"Mô hình ARIMA(4,1,2):\")\n",
    "print(result_412.summary())"
   ]
  },
  {
   "cell_type": "code",
<<<<<<< HEAD
   "execution_count": 22,
=======
   "execution_count": 97,
>>>>>>> 22d5528f25ad860368f6f909aa528518bd4d33c5
   "id": "800d155a-24fc-4cca-9f80-a1f168a36876",
   "metadata": {},
   "outputs": [
    {
     "name": "stderr",
     "output_type": "stream",
     "text": [
      "C:\\Users\\Admin\\anaconda3\\Lib\\site-packages\\statsmodels\\tsa\\base\\tsa_model.py:473: ValueWarning: A date index has been provided, but it has no associated frequency information and so will be ignored when e.g. forecasting.\n",
      "  self._init_dates(dates, freq)\n",
      "C:\\Users\\Admin\\anaconda3\\Lib\\site-packages\\statsmodels\\tsa\\base\\tsa_model.py:473: ValueWarning: A date index has been provided, but it has no associated frequency information and so will be ignored when e.g. forecasting.\n",
      "  self._init_dates(dates, freq)\n",
      "C:\\Users\\Admin\\anaconda3\\Lib\\site-packages\\statsmodels\\tsa\\base\\tsa_model.py:473: ValueWarning: A date index has been provided, but it has no associated frequency information and so will be ignored when e.g. forecasting.\n",
      "  self._init_dates(dates, freq)\n"
     ]
    },
    {
     "name": "stdout",
     "output_type": "stream",
     "text": [
      "Mô hình ARIMA(4,1,1):\n",
      "                               SARIMAX Results                                \n",
      "==============================================================================\n",
      "Dep. Variable:     Ước tính mỗi tháng   No. Observations:                 1874\n",
<<<<<<< HEAD
      "Model:                 ARIMA(4, 1, 4)   Log Likelihood              -11689.922\n",
      "Date:                Mon, 06 Jan 2025   AIC                          23397.844\n",
      "Time:                        08:02:09   BIC                          23447.662\n",
      "Sample:                             0   HQIC                         23416.197\n",
=======
      "Model:                 ARIMA(4, 1, 1)   Log Likelihood               -1859.124\n",
      "Date:                Sun, 05 Jan 2025   AIC                           3730.247\n",
      "Time:                        17:49:16   BIC                           3763.459\n",
      "Sample:                             0   HQIC                          3742.482\n",
>>>>>>> 22d5528f25ad860368f6f909aa528518bd4d33c5
      "                               - 1874                                         \n",
      "Covariance Type:                  opg                                         \n",
      "==============================================================================\n",
      "                 coef    std err          z      P>|z|      [0.025      0.975]\n",
      "------------------------------------------------------------------------------\n",
      "ar.L1          0.0741      0.026      2.822      0.005       0.023       0.126\n",
      "ar.L2          0.1973      0.019     10.380      0.000       0.160       0.235\n",
      "ar.L3          0.1945      0.025      7.891      0.000       0.146       0.243\n",
      "ar.L4          0.0246      0.021      1.168      0.243      -0.017       0.066\n",
      "ma.L1         -0.9863      0.005   -192.735      0.000      -0.996      -0.976\n",
      "sigma2         0.4257      0.013     32.253      0.000       0.400       0.452\n",
      "===================================================================================\n",
      "Ljung-Box (L1) (Q):                   0.00   Jarque-Bera (JB):               136.56\n",
      "Prob(Q):                              0.95   Prob(JB):                         0.00\n",
      "Heteroskedasticity (H):               0.98   Skew:                             0.52\n",
      "Prob(H) (two-sided):                  0.77   Kurtosis:                         3.82\n",
      "===================================================================================\n",
      "\n",
      "Warnings:\n",
      "[1] Covariance matrix calculated using the outer product of gradients (complex-step).\n"
     ]
    },
    {
     "name": "stderr",
     "output_type": "stream",
     "text": [
      "C:\\Users\\Admin\\anaconda3\\Lib\\site-packages\\statsmodels\\tsa\\base\\tsa_model.py:836: ValueWarning: No supported index is available. Prediction results will be given with an integer index beginning at `start`.\n",
      "  return get_prediction_index(\n",
      "C:\\Users\\Admin\\anaconda3\\Lib\\site-packages\\statsmodels\\tsa\\base\\tsa_model.py:836: FutureWarning: No supported index is available. In the next version, calling this method in a model without a supported index will result in an exception.\n",
      "  return get_prediction_index(\n"
     ]
    }
   ],
   "source": [
    "#ARIMA(4,1,1)\n",
    "model_411 = ARIMA(data, order=(4, 1, 1))\n",
    "result_411 = model_411.fit()\n",
    "\n",
    "# Dự báo 12 tháng tiếp theo\n",
    "forecast_411 = result_411.forecast(steps=12)\n",
    "\n",
    "# Hiển thị tóm tắt mô hình\n",
    "print(\"Mô hình ARIMA(4,1,1):\")\n",
    "print(result_411.summary())"
   ]
  },
  {
   "cell_type": "code",
<<<<<<< HEAD
   "execution_count": 23,
=======
   "execution_count": 98,
>>>>>>> 22d5528f25ad860368f6f909aa528518bd4d33c5
   "id": "91fab130-f424-4668-8e59-9a61aed47e29",
   "metadata": {},
   "outputs": [
    {
     "name": "stdout",
     "output_type": "stream",
     "text": [
      "MSE (ARIMA(4,1,4)): 0.3259717601943026\n",
      "MSE (ARIMA(4,1,2)): 0.37714411466033987\n",
      "MSE (ARIMA(4,1,1)): 0.35519784962962037\n"
     ]
    }
   ],
   "source": [
    "from sklearn.metrics import mean_squared_error\n",
    "\n",
    "# Lấy dữ liệu thực tế 12 tháng cuối để so sánh\n",
    "y_true = data[-12:]\n",
    "\n",
    "# Đánh giá MSE\n",
    "mse_414 = mean_squared_error(y_true, forecast_414)\n",
    "mse_412 = mean_squared_error(y_true, forecast_412)\n",
    "mse_411 = mean_squared_error(y_true, forecast_411)\n",
    "\n",
    "print(f\"MSE (ARIMA(4,1,4)): {mse_414}\")\n",
    "print(f\"MSE (ARIMA(4,1,2)): {mse_412}\")\n",
    "print(f\"MSE (ARIMA(4,1,1)): {mse_411}\")\n"
   ]
  },
  {
   "cell_type": "code",
<<<<<<< HEAD
   "execution_count": 24,
=======
   "execution_count": 99,
>>>>>>> 22d5528f25ad860368f6f909aa528518bd4d33c5
   "id": "e2d9846a-18dd-4b70-943a-2876fb87d19b",
   "metadata": {},
   "outputs": [
    {
     "name": "stderr",
     "output_type": "stream",
     "text": [
<<<<<<< HEAD
      "C:\\Users\\Admin\\AppData\\Local\\Temp\\ipykernel_14120\\3454762252.py:1: FutureWarning: 'M' is deprecated and will be removed in a future version, please use 'ME' instead.\n",
=======
      "C:\\Users\\Admin\\AppData\\Local\\Temp\\ipykernel_7604\\596803818.py:1: FutureWarning: 'M' is deprecated and will be removed in a future version, please use 'ME' instead.\n",
>>>>>>> 22d5528f25ad860368f6f909aa528518bd4d33c5
      "  forecast_index = pd.date_range(start=data.index[-1], periods=12, freq='M')\n"
     ]
    },
    {
     "data": {
      "image/png": "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",
      "text/plain": [
       "<Figure size 1200x600 with 1 Axes>"
      ]
     },
     "metadata": {},
     "output_type": "display_data"
    }
   ],
   "source": [
    "forecast_index = pd.date_range(start=data.index[-1], periods=12, freq='M')\n",
    "\n",
    "forecast_414.index = forecast_index\n",
    "forecast_412.index = forecast_index\n",
    "forecast_411.index = forecast_index\n",
    "\n",
    "plt.figure(figsize=(12, 6))\n",
    "plt.plot(data, label='Dữ liệu thực tế')\n",
    "plt.plot(forecast_414, label='Dự báo ARIMA(4,1,4)', color='orange')\n",
    "plt.plot(forecast_412, label='Dự báo ARIMA(4,1,2)', color='green')\n",
    "plt.plot(forecast_411, label='Dự báo ARIMA(4,1,1)', color='purple')\n",
    "plt.legend()\n",
    "plt.title(\"So sánh Dự báo ARIMA(4,1,4) và ARIMA(4,1,2), và ARIMA(4,1,1)\")\n",
    "plt.xlabel(\"Thời gian\")\n",
    "plt.xlim(pd.Timestamp('2019-01-01'), pd.Timestamp('2026-01-01'))\n",
    "plt.ylabel(\"Ước tính mỗi tháng\")\n",
    "plt.show()\n"
   ]
  },
  {
   "cell_type": "code",
<<<<<<< HEAD
   "execution_count": 25,
=======
   "execution_count": 100,
>>>>>>> 22d5528f25ad860368f6f909aa528518bd4d33c5
   "id": "9a9de80c-4231-452e-bf47-e9217abea5cf",
   "metadata": {},
   "outputs": [
    {
     "name": "stderr",
     "output_type": "stream",
     "text": [
<<<<<<< HEAD
      "C:\\Users\\Admin\\AppData\\Local\\Temp\\ipykernel_14120\\661216316.py:1: FutureWarning: 'M' is deprecated and will be removed in a future version, please use 'ME' instead.\n",
=======
      "C:\\Users\\Admin\\AppData\\Local\\Temp\\ipykernel_7604\\4163589576.py:1: FutureWarning: 'M' is deprecated and will be removed in a future version, please use 'ME' instead.\n",
>>>>>>> 22d5528f25ad860368f6f909aa528518bd4d33c5
      "  forecast_index = pd.date_range(start=data.index[-1], periods=12, freq='M')\n"
     ]
    },
    {
     "data": {
      "image/png": "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",
      "text/plain": [
       "<Figure size 1200x600 with 1 Axes>"
      ]
     },
     "metadata": {},
     "output_type": "display_data"
    }
   ],
   "source": [
    "forecast_index = pd.date_range(start=data.index[-1], periods=12, freq='M')\n",
    "\n",
    "forecast_414.index = forecast_index\n",
    "forecast_412.index = forecast_index\n",
    "forecast_411.index = forecast_index\n",
    "\n",
    "plt.figure(figsize=(12, 6))\n",
    "plt.plot(forecast_414, label='Dự báo ARIMA(4,1,4)', color='orange')\n",
    "plt.plot(forecast_412, label='Dự báo ARIMA(4,1,2)', color='green')\n",
    "plt.plot(forecast_411, label='Dự báo ARIMA(4,1,1)', color='purple')\n",
    "plt.legend()\n",
    "plt.title(\"So sánh Dự báo ARIMA(4,1,4) và ARIMA(4,1,2), và ARIMA(4,1,1)\")\n",
    "plt.xlabel(\"Thời gian\")\n",
    "plt.xlim(pd.Timestamp('2025-01-01'), pd.Timestamp('2026-01-01'))\n",
    "plt.ylabel(\"Ước tính mỗi tháng\")\n",
    "plt.show()\n"
   ]
  },
  {
   "cell_type": "code",
   "execution_count": null,
   "id": "7fdc3653-5ae2-4e71-8a5f-c8af9583c6d1",
   "metadata": {},
   "outputs": [],
   "source": []
  },
  {
   "cell_type": "code",
   "execution_count": null,
   "id": "5289d382-24b6-4eb9-853a-787b737ded91",
   "metadata": {},
   "outputs": [],
   "source": []
  }
 ],
 "metadata": {
  "kernelspec": {
   "display_name": ".venv",
   "language": "python",
   "name": "python3"
  },
  "language_info": {
   "codemirror_mode": {
    "name": "ipython",
    "version": 3
   },
   "file_extension": ".py",
   "mimetype": "text/x-python",
   "name": "python",
   "nbconvert_exporter": "python",
   "pygments_lexer": "ipython3",
   "version": "3.11.0"
  }
 },
 "nbformat": 4,
 "nbformat_minor": 5
}
