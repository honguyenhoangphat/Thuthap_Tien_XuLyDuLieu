{
 "cells": [
  {
   "cell_type": "markdown",
   "metadata": {},
   "source": [
    "# Bai 1:"
   ]
  },
  {
   "cell_type": "code",
   "execution_count": 25,
   "metadata": {},
   "outputs": [],
   "source": [
    "import pandas as pd  \n",
    "import numpy as np\n",
    "from scipy import stats\n",
    "from scipy.stats import norm\n",
    "from scipy.stats import t \n",
    "from math import sqrt\n"
   ]
  },
  {
   "cell_type": "markdown",
   "metadata": {},
   "source": [
    "1. Trong một mẫu ngẫu nhiên 200 tài xế ở Tp.HCM có 165 trường hợp mang đai an toàn thường xuyên, trong khi một mẫu khác, 250 tài xế ở Hà Nội, cho thấy có 198 trường hợp mang đai an toàn thường xuyên.\n",
    "- a) Thực hiện thủ tục kiểm định giả thuyết để xác định xem có sự khác biệt mang ý nghĩa thống kê giữa việc sử dụng đai an toàn ở Tp.HCM và Hà Nội hay không? Với mức ý\n",
    "nghĩa 0.05\n",
    "\n"
   ]
  },
  {
   "cell_type": "code",
   "execution_count": 28,
   "metadata": {},
   "outputs": [
    {
     "name": "stdout",
     "output_type": "stream",
     "text": [
      "không bác bỏ giả thuyết H0\n"
     ]
    }
   ],
   "source": [
    "\n",
    "p1 = 165/200\n",
    "p2 = 198/250\n",
    "alpha1a = 0.05\n",
    "n1 = 200\n",
    "n2 = 250\n",
    "z0 = (p1 - p2) / sqrt(p1*(1-p1)/n1 + p2*(1-p2)/n2)\n",
    "z_alpha1a = norm.ppf(1-alpha1a/2)\n",
    "if z0 > z_alpha1a:\n",
    "    print(\"bác bỏ giả thuyết H0\")\n",
    "else:\n",
    "    print(\"không bác bỏ giả thuyết H0\")"
   ]
  },
  {
   "cell_type": "code",
   "execution_count": 41,
   "metadata": {},
   "outputs": [
    {
     "name": "stdout",
     "output_type": "stream",
     "text": [
      "Z-score: 1.96\n",
      "p_value: 1.26\n"
     ]
    }
   ],
   "source": [
    "\n",
    "z_alpha1a, z0"
   ]
  },
  {
   "cell_type": "markdown",
   "metadata": {},
   "source": [
    "- b) Tương tự câu (a) với mức ý nghĩa 0.1"
   ]
  },
  {
   "cell_type": "code",
   "execution_count": 30,
   "metadata": {},
   "outputs": [
    {
     "name": "stdout",
     "output_type": "stream",
     "text": [
      "không bác bỏ giả thuyết H0\n"
     ]
    }
   ],
   "source": [
    "\n",
    "p1 = 165/200\n",
    "p2 = 198/250\n",
    "alpha1b = 0.1\n",
    "n1 = 200\n",
    "n2 = 250\n",
    "z0 = (p1 - p2) / sqrt(p1*(1-p1)/n1 + p2*(1-p2)/n2)\n",
    "z_alpha1b = norm.ppf(1-alpha1b/2)\n",
    "if z0 > z_alpha1b:\n",
    "    print(\"bác bỏ giả thuyết H0\")\n",
    "else:\n",
    "    print(\"không bác bỏ giả thuyết H0\")"
   ]
  },
  {
   "cell_type": "code",
   "execution_count": 40,
   "metadata": {},
   "outputs": [
    {
     "name": "stdout",
     "output_type": "stream",
     "text": [
      "Z-score: 1.64\n",
      "p_value: 1.26\n"
     ]
    }
   ],
   "source": [
    "print(f\"Z-score: {z_alpha1b:.2f}\")\n",
    "print(f\"p_value: {z0:.2f}\")"
   ]
  },
  {
   "cell_type": "markdown",
   "metadata": {},
   "source": [
    "- (c) Giả sử các số liệu ở trên được nhân đôi. Nghĩa là, trong một mẫu ngẫu nhiên 400 tài xế ở Tp.HCM có 330 trường hợp mang đai an toàn thường xuyên, trong khi một mẫu khác, 500 tài xế ở Hà Nội cho thấy có 396 trường hợp mang đai an toàn thường xuyên. Thực hiện lại câu (a), (b) và cho nhận xét về ảnh hưởng của việc tăng kích thước mẫu mà không thay đổi các tỉ lệ lên kết quả kiểm định."
   ]
  },
  {
   "cell_type": "code",
   "execution_count": 32,
   "metadata": {},
   "outputs": [
    {
     "name": "stdout",
     "output_type": "stream",
     "text": [
      "không bác bỏ giả thuyết H0\n"
     ]
    }
   ],
   "source": [
    "n1 = 400\n",
    "n2 = 500\n",
    "p1 = 330/400\n",
    "p2 = 396/500\n",
    "alpha1c1 = 0.05\n",
    "z0 = (p1 - p2) / sqrt(p1*(1-p1)/n1 + p2*(1-p2)/n2)\n",
    "z_alpha1c1 = norm.ppf(1-alpha1c1/2)\n",
    "if z0 > z_alpha1c1:\n",
    "    print(\"bác bỏ giả thuyết H0\")\n",
    "else:\n",
    "    print(\"không bác bỏ giả thuyết H0\")"
   ]
  },
  {
   "cell_type": "code",
   "execution_count": 43,
   "metadata": {},
   "outputs": [
    {
     "name": "stdout",
     "output_type": "stream",
     "text": [
      "Z-score: 1.9600\n",
      "p_value: 1.2559\n"
     ]
    }
   ],
   "source": [
    "print(f\"Z-score: {z_alpha1c1:.4f}\")\n",
    "print(f\"p_value: {z0:.4f}\")"
   ]
  },
  {
   "cell_type": "code",
   "execution_count": 34,
   "metadata": {},
   "outputs": [
    {
     "name": "stdout",
     "output_type": "stream",
     "text": [
      "không bác bỏ giả thuyết H0\n"
     ]
    }
   ],
   "source": [
    "n1 = 400\n",
    "n2 = 500\n",
    "p1 = 330/400\n",
    "p2 = 396/500\n",
    "alpha1c2 = 0.1\n",
    "z0 = (p1 - p2) / sqrt(p1*(1-p1)/n1 + p2*(1-p2)/n2)\n",
    "z_alpha1c2 = norm.ppf(1-alpha1c2/2)\n",
    "if z0 > z_alpha1c2:\n",
    "    print(\"bác bỏ giả thuyết H0\")\n",
    "else:\n",
    "    print(\"không bác bỏ giả thuyết H0\")"
   ]
  },
  {
   "cell_type": "code",
   "execution_count": 45,
   "metadata": {},
   "outputs": [
    {
     "name": "stdout",
     "output_type": "stream",
     "text": [
      "Z-score: 1.959964\n",
      "p_value: 1.2559\n"
     ]
    }
   ],
   "source": [
    "print(f\"Z-score: {z_alpha1a:4f}\")\n",
    "print(f\"p_value: {z0:.4f}\")"
   ]
  },
  {
   "cell_type": "markdown",
   "metadata": {},
   "source": [
    "# Nhận xét:\n",
    "- Khi tăng kích thước mẫu, độ chính xác của kiểm định tăng lên (p-value nhỏ hơn).\n",
    "- Nếu p-value giảm khi tăng kích thước mẫu, điều đó cho thấy kích thước mẫu nhỏ có thể dẫn đến kết luận sai."
   ]
  }
 ],
 "metadata": {
  "kernelspec": {
   "display_name": "Python 3",
   "language": "python",
   "name": "python3"
  },
  "language_info": {
   "codemirror_mode": {
    "name": "ipython",
    "version": 3
   },
   "file_extension": ".py",
   "mimetype": "text/x-python",
   "name": "python",
   "nbconvert_exporter": "python",
   "pygments_lexer": "ipython3",
   "version": "3.12.0"
  }
 },
 "nbformat": 4,
 "nbformat_minor": 2
}
